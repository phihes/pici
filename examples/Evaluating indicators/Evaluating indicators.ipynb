{
 "cells": [
  {
   "cell_type": "code",
   "execution_count": 71,
   "outputs": [],
   "source": [
    "import pandas as pd\n",
    "from pici.labelling import InnovationLabels\n",
    "from pici import Pici\n",
    "\n",
    "p = Pici(\n",
    "    cache_dir='../../cache',\n",
    "    #cache_nrows=10000,\n",
    "    start='2017-01-01',\n",
    "    end='2019-01-01',\n",
    "    labels=[\n",
    "       InnovationLabels(\n",
    "           pd.read_excel(\"../../pici/tests/test_integrated_labels.xlsx\")\n",
    "       ),\n",
    "       InnovationLabels().from_limesurvey(\n",
    "           pd.read_excel(\"../../pici/tests/results-survey664322_2022-08-01.xlsx\"),\n",
    "           drop_labellers=[\"Test\",\"test\"]\n",
    "       )\n",
    "    ],\n",
    ")"
   ],
   "metadata": {
    "collapsed": false,
    "pycharm": {
     "name": "#%%\n"
    }
   }
  },
  {
   "cell_type": "code",
   "execution_count": 72,
   "outputs": [],
   "source": [
    "X, Y = p.get_topic_features()"
   ],
   "metadata": {
    "collapsed": false,
    "pycharm": {
     "name": "#%%\n"
    }
   }
  },
  {
   "cell_type": "code",
   "execution_count": 73,
   "outputs": [],
   "source": [
    "X = X.apply(pd.to_numeric)"
   ],
   "metadata": {
    "collapsed": false,
    "pycharm": {
     "name": "#%%\n"
    }
   }
  },
  {
   "cell_type": "code",
   "execution_count": 74,
   "outputs": [
    {
     "data": {
      "text/plain": "     number of posts  number of contributors      first post date  \\\n0                  4                       3  1502976779000000000   \n1                  8                       3  1485400480000000000   \n2                  1                       1  1489793738000000000   \n3                  2                       2  1484252910000000000   \n4                  2                       2  1484252910000000000   \n..               ...                     ...                  ...   \n521                7                       6  1522581780000000000   \n522                7                       6  1522581780000000000   \n523                2                       2  1492318020000000000   \n524               10                       5  1494089520000000000   \n525                2                       2  1518810180000000000   \n\n        second post date       last post date  delay first last post  \\\n0    1502984003000000000  1503047575000000000                      0   \n1    1485414291000000000  1495721199000000000                    119   \n2    1489793738000000000  1489793738000000000                      0   \n3    1484338804000000000  1484338804000000000                      0   \n4    1484338804000000000  1484338804000000000                      0   \n..                   ...                  ...                    ...   \n521  1522597200000000000  1527886080000000000                     61   \n522  1522597200000000000  1527886080000000000                     61   \n523  1492510140000000000  1492510140000000000                      2   \n524  1496766180000000000  1512571680000000000                    213   \n525  1543719240000000000  1543719240000000000                    288   \n\n     delay first second post  \n0                          0  \n1                          0  \n2                          0  \n3                          0  \n4                          0  \n..                       ...  \n521                        0  \n522                        0  \n523                        2  \n524                       30  \n525                      288  \n\n[526 rows x 7 columns]",
      "text/html": "<div>\n<style scoped>\n    .dataframe tbody tr th:only-of-type {\n        vertical-align: middle;\n    }\n\n    .dataframe tbody tr th {\n        vertical-align: top;\n    }\n\n    .dataframe thead th {\n        text-align: right;\n    }\n</style>\n<table border=\"1\" class=\"dataframe\">\n  <thead>\n    <tr style=\"text-align: right;\">\n      <th></th>\n      <th>number of posts</th>\n      <th>number of contributors</th>\n      <th>first post date</th>\n      <th>second post date</th>\n      <th>last post date</th>\n      <th>delay first last post</th>\n      <th>delay first second post</th>\n    </tr>\n  </thead>\n  <tbody>\n    <tr>\n      <th>0</th>\n      <td>4</td>\n      <td>3</td>\n      <td>1502976779000000000</td>\n      <td>1502984003000000000</td>\n      <td>1503047575000000000</td>\n      <td>0</td>\n      <td>0</td>\n    </tr>\n    <tr>\n      <th>1</th>\n      <td>8</td>\n      <td>3</td>\n      <td>1485400480000000000</td>\n      <td>1485414291000000000</td>\n      <td>1495721199000000000</td>\n      <td>119</td>\n      <td>0</td>\n    </tr>\n    <tr>\n      <th>2</th>\n      <td>1</td>\n      <td>1</td>\n      <td>1489793738000000000</td>\n      <td>1489793738000000000</td>\n      <td>1489793738000000000</td>\n      <td>0</td>\n      <td>0</td>\n    </tr>\n    <tr>\n      <th>3</th>\n      <td>2</td>\n      <td>2</td>\n      <td>1484252910000000000</td>\n      <td>1484338804000000000</td>\n      <td>1484338804000000000</td>\n      <td>0</td>\n      <td>0</td>\n    </tr>\n    <tr>\n      <th>4</th>\n      <td>2</td>\n      <td>2</td>\n      <td>1484252910000000000</td>\n      <td>1484338804000000000</td>\n      <td>1484338804000000000</td>\n      <td>0</td>\n      <td>0</td>\n    </tr>\n    <tr>\n      <th>...</th>\n      <td>...</td>\n      <td>...</td>\n      <td>...</td>\n      <td>...</td>\n      <td>...</td>\n      <td>...</td>\n      <td>...</td>\n    </tr>\n    <tr>\n      <th>521</th>\n      <td>7</td>\n      <td>6</td>\n      <td>1522581780000000000</td>\n      <td>1522597200000000000</td>\n      <td>1527886080000000000</td>\n      <td>61</td>\n      <td>0</td>\n    </tr>\n    <tr>\n      <th>522</th>\n      <td>7</td>\n      <td>6</td>\n      <td>1522581780000000000</td>\n      <td>1522597200000000000</td>\n      <td>1527886080000000000</td>\n      <td>61</td>\n      <td>0</td>\n    </tr>\n    <tr>\n      <th>523</th>\n      <td>2</td>\n      <td>2</td>\n      <td>1492318020000000000</td>\n      <td>1492510140000000000</td>\n      <td>1492510140000000000</td>\n      <td>2</td>\n      <td>2</td>\n    </tr>\n    <tr>\n      <th>524</th>\n      <td>10</td>\n      <td>5</td>\n      <td>1494089520000000000</td>\n      <td>1496766180000000000</td>\n      <td>1512571680000000000</td>\n      <td>213</td>\n      <td>30</td>\n    </tr>\n    <tr>\n      <th>525</th>\n      <td>2</td>\n      <td>2</td>\n      <td>1518810180000000000</td>\n      <td>1543719240000000000</td>\n      <td>1543719240000000000</td>\n      <td>288</td>\n      <td>288</td>\n    </tr>\n  </tbody>\n</table>\n<p>526 rows × 7 columns</p>\n</div>"
     },
     "execution_count": 74,
     "metadata": {},
     "output_type": "execute_result"
    }
   ],
   "source": [
    "X"
   ],
   "metadata": {
    "collapsed": false,
    "pycharm": {
     "name": "#%%\n"
    }
   }
  },
  {
   "cell_type": "code",
   "execution_count": 75,
   "outputs": [
    {
     "data": {
      "text/plain": "                   labeller   community_name  \\\n0       petrol39blackberry0    OpenStreetMap   \n1    xwegner_lgh@outlook.de    OpenStreetMap   \n2              anna+philipp    OpenStreetMap   \n3              anna+philipp    OpenStreetMap   \n4          Jan-Philipp (JP)    OpenStreetMap   \n..                      ...              ...   \n521        Jan-Philipp (JP)  PreciousPlastic   \n522                  Jan P.  PreciousPlastic   \n523                  Larilu  PreciousPlastic   \n524                  Larilu  PreciousPlastic   \n525                  Larilu  PreciousPlastic   \n\n                                                   url  label_idea  \\\n0    https://forum.openstreetmap.org/viewtopic.php?...        True   \n1    https://forum.openstreetmap.org/viewtopic.php?...        True   \n2    https://forum.openstreetmap.org/viewtopic.php?...        True   \n3    https://forum.openstreetmap.org/viewtopic.php?...        True   \n4    https://forum.openstreetmap.org/viewtopic.php?...        True   \n..                                                 ...         ...   \n521  https://davehakkens.nl/community/forums/topic/...        True   \n522  https://davehakkens.nl/community/forums/topic/...        True   \n523  https://davehakkens.nl/community/forums/topic/...        True   \n524  https://davehakkens.nl/community/forums/topic/...        True   \n525  https://davehakkens.nl/community/forums/topic/...       False   \n\n     label_evaluation  label_implementation  label_modification  \\\n0                True                 False               False   \n1                True                 False                True   \n2                True                 False               False   \n3                True                 False                True   \n4                True                 False               False   \n..                ...                   ...                 ...   \n521              True                 False               False   \n522              True                 False               False   \n523              True                 False               False   \n524              True                 False               False   \n525             False                 False               False   \n\n     label_improvement label_potential  label_any_activity  \\\n0                False               1                True   \n1                False               1                True   \n2                False               2                True   \n3                 True               2                True   \n4                 True               2                True   \n..                 ...             ...                 ...   \n521               True               2                True   \n522               True               2                True   \n523              False               0                True   \n524              False               1                True   \n525              False               0               False   \n\n     label_has_potential                                     id  \n0                   True                                  16852  \n1                   True                                  25188  \n2                   True                                  55121  \n3                   True                                  56276  \n4                   True                                  56276  \n..                   ...                                    ...  \n521                 True                         whirligig-star  \n522                 True                         whirligig-star  \n523                False  why-not-develop-a-pelletizing-machine  \n524                 True                       wooden-framework  \n525                False                writing-grant-proposals  \n\n[526 rows x 12 columns]",
      "text/html": "<div>\n<style scoped>\n    .dataframe tbody tr th:only-of-type {\n        vertical-align: middle;\n    }\n\n    .dataframe tbody tr th {\n        vertical-align: top;\n    }\n\n    .dataframe thead th {\n        text-align: right;\n    }\n</style>\n<table border=\"1\" class=\"dataframe\">\n  <thead>\n    <tr style=\"text-align: right;\">\n      <th></th>\n      <th>labeller</th>\n      <th>community_name</th>\n      <th>url</th>\n      <th>label_idea</th>\n      <th>label_evaluation</th>\n      <th>label_implementation</th>\n      <th>label_modification</th>\n      <th>label_improvement</th>\n      <th>label_potential</th>\n      <th>label_any_activity</th>\n      <th>label_has_potential</th>\n      <th>id</th>\n    </tr>\n  </thead>\n  <tbody>\n    <tr>\n      <th>0</th>\n      <td>petrol39blackberry0</td>\n      <td>OpenStreetMap</td>\n      <td>https://forum.openstreetmap.org/viewtopic.php?...</td>\n      <td>True</td>\n      <td>True</td>\n      <td>False</td>\n      <td>False</td>\n      <td>False</td>\n      <td>1</td>\n      <td>True</td>\n      <td>True</td>\n      <td>16852</td>\n    </tr>\n    <tr>\n      <th>1</th>\n      <td>xwegner_lgh@outlook.de</td>\n      <td>OpenStreetMap</td>\n      <td>https://forum.openstreetmap.org/viewtopic.php?...</td>\n      <td>True</td>\n      <td>True</td>\n      <td>False</td>\n      <td>True</td>\n      <td>False</td>\n      <td>1</td>\n      <td>True</td>\n      <td>True</td>\n      <td>25188</td>\n    </tr>\n    <tr>\n      <th>2</th>\n      <td>anna+philipp</td>\n      <td>OpenStreetMap</td>\n      <td>https://forum.openstreetmap.org/viewtopic.php?...</td>\n      <td>True</td>\n      <td>True</td>\n      <td>False</td>\n      <td>False</td>\n      <td>False</td>\n      <td>2</td>\n      <td>True</td>\n      <td>True</td>\n      <td>55121</td>\n    </tr>\n    <tr>\n      <th>3</th>\n      <td>anna+philipp</td>\n      <td>OpenStreetMap</td>\n      <td>https://forum.openstreetmap.org/viewtopic.php?...</td>\n      <td>True</td>\n      <td>True</td>\n      <td>False</td>\n      <td>True</td>\n      <td>True</td>\n      <td>2</td>\n      <td>True</td>\n      <td>True</td>\n      <td>56276</td>\n    </tr>\n    <tr>\n      <th>4</th>\n      <td>Jan-Philipp (JP)</td>\n      <td>OpenStreetMap</td>\n      <td>https://forum.openstreetmap.org/viewtopic.php?...</td>\n      <td>True</td>\n      <td>True</td>\n      <td>False</td>\n      <td>False</td>\n      <td>True</td>\n      <td>2</td>\n      <td>True</td>\n      <td>True</td>\n      <td>56276</td>\n    </tr>\n    <tr>\n      <th>...</th>\n      <td>...</td>\n      <td>...</td>\n      <td>...</td>\n      <td>...</td>\n      <td>...</td>\n      <td>...</td>\n      <td>...</td>\n      <td>...</td>\n      <td>...</td>\n      <td>...</td>\n      <td>...</td>\n      <td>...</td>\n    </tr>\n    <tr>\n      <th>521</th>\n      <td>Jan-Philipp (JP)</td>\n      <td>PreciousPlastic</td>\n      <td>https://davehakkens.nl/community/forums/topic/...</td>\n      <td>True</td>\n      <td>True</td>\n      <td>False</td>\n      <td>False</td>\n      <td>True</td>\n      <td>2</td>\n      <td>True</td>\n      <td>True</td>\n      <td>whirligig-star</td>\n    </tr>\n    <tr>\n      <th>522</th>\n      <td>Jan P.</td>\n      <td>PreciousPlastic</td>\n      <td>https://davehakkens.nl/community/forums/topic/...</td>\n      <td>True</td>\n      <td>True</td>\n      <td>False</td>\n      <td>False</td>\n      <td>True</td>\n      <td>2</td>\n      <td>True</td>\n      <td>True</td>\n      <td>whirligig-star</td>\n    </tr>\n    <tr>\n      <th>523</th>\n      <td>Larilu</td>\n      <td>PreciousPlastic</td>\n      <td>https://davehakkens.nl/community/forums/topic/...</td>\n      <td>True</td>\n      <td>True</td>\n      <td>False</td>\n      <td>False</td>\n      <td>False</td>\n      <td>0</td>\n      <td>True</td>\n      <td>False</td>\n      <td>why-not-develop-a-pelletizing-machine</td>\n    </tr>\n    <tr>\n      <th>524</th>\n      <td>Larilu</td>\n      <td>PreciousPlastic</td>\n      <td>https://davehakkens.nl/community/forums/topic/...</td>\n      <td>True</td>\n      <td>True</td>\n      <td>False</td>\n      <td>False</td>\n      <td>False</td>\n      <td>1</td>\n      <td>True</td>\n      <td>True</td>\n      <td>wooden-framework</td>\n    </tr>\n    <tr>\n      <th>525</th>\n      <td>Larilu</td>\n      <td>PreciousPlastic</td>\n      <td>https://davehakkens.nl/community/forums/topic/...</td>\n      <td>False</td>\n      <td>False</td>\n      <td>False</td>\n      <td>False</td>\n      <td>False</td>\n      <td>0</td>\n      <td>False</td>\n      <td>False</td>\n      <td>writing-grant-proposals</td>\n    </tr>\n  </tbody>\n</table>\n<p>526 rows × 12 columns</p>\n</div>"
     },
     "execution_count": 75,
     "metadata": {},
     "output_type": "execute_result"
    }
   ],
   "source": [
    "Y"
   ],
   "metadata": {
    "collapsed": false,
    "pycharm": {
     "name": "#%%\n"
    }
   }
  },
  {
   "cell_type": "code",
   "execution_count": 76,
   "outputs": [],
   "source": [
    "y = Y.label_idea"
   ],
   "metadata": {
    "collapsed": false,
    "pycharm": {
     "name": "#%%\n"
    }
   }
  },
  {
   "cell_type": "code",
   "execution_count": 77,
   "outputs": [
    {
     "data": {
      "text/plain": "GridSearchCV(cv=StratifiedKFold(n_splits=2, random_state=0, shuffle=True),\n             estimator=RFECV(cv=StratifiedKFold(n_splits=2, random_state=None, shuffle=False),\n                             estimator=RandomForestClassifier(class_weight='balanced',\n                                                              n_estimators=30,\n                                                              random_state=0),\n                             n_jobs=-1, scoring='roc_auc'),\n             param_grid={'estimator__criterion': ['gini'],\n                         'estimator__max_depth': [3, 4, 5, 10],\n                         'estimator__max_features': ['auto']},\n             scoring='roc_auc')"
     },
     "execution_count": 77,
     "metadata": {},
     "output_type": "execute_result"
    }
   ],
   "source": [
    "from sklearn.datasets import load_breast_cancer\n",
    "from sklearn.feature_selection import RFECV\n",
    "from sklearn.model_selection import GridSearchCV, StratifiedKFold\n",
    "from sklearn.model_selection import train_test_split\n",
    "from sklearn.ensemble import RandomForestClassifier\n",
    "\n",
    "clf = RandomForestClassifier(random_state=0, class_weight=\"balanced\", n_estimators=30)\n",
    "rfecv = RFECV(estimator=clf, step=1, cv=StratifiedKFold(2), scoring='roc_auc', n_jobs=-1)\n",
    "\n",
    "param_grid = {\n",
    "    'estimator__max_features': ['auto'],\n",
    "    'estimator__max_depth' : [3,4,5,10],\n",
    "    'estimator__criterion' :['gini']\n",
    "}\n",
    "k_fold = StratifiedKFold(n_splits=2, shuffle=True, random_state=0)\n",
    "\n",
    "CV_rfc = GridSearchCV(estimator=rfecv, param_grid=param_grid, cv= k_fold, scoring = 'roc_auc')\n",
    "\n",
    "X_train, X_test, y_train, y_test = train_test_split(X, y)\n",
    "\n",
    "CV_rfc.fit(X_train, y_train)"
   ],
   "metadata": {
    "collapsed": false,
    "pycharm": {
     "name": "#%%\n"
    }
   }
  },
  {
   "cell_type": "code",
   "execution_count": 78,
   "outputs": [
    {
     "name": "stdout",
     "output_type": "stream",
     "text": [
      "{'estimator__criterion': 'gini', 'estimator__max_depth': 10, 'estimator__max_features': 'auto'}\n",
      "0.7274360792926092\n",
      "RFECV(cv=StratifiedKFold(n_splits=2, random_state=None, shuffle=False),\n",
      "      estimator=RandomForestClassifier(class_weight='balanced', max_depth=10,\n",
      "                                       n_estimators=30, random_state=0),\n",
      "      n_jobs=-1, scoring='roc_auc')\n"
     ]
    }
   ],
   "source": [
    "print(CV_rfc.best_params_)\n",
    "print(CV_rfc.best_score_)\n",
    "print(CV_rfc.best_estimator_)"
   ],
   "metadata": {
    "collapsed": false,
    "pycharm": {
     "name": "#%%\n"
    }
   }
  },
  {
   "cell_type": "code",
   "execution_count": 79,
   "outputs": [
    {
     "data": {
      "text/plain": "array([ True,  True,  True,  True,  True,  True,  True])"
     },
     "execution_count": 79,
     "metadata": {},
     "output_type": "execute_result"
    }
   ],
   "source": [
    "CV_rfc.best_estimator_.support_"
   ],
   "metadata": {
    "collapsed": false,
    "pycharm": {
     "name": "#%%\n"
    }
   }
  },
  {
   "cell_type": "code",
   "execution_count": 80,
   "outputs": [
    {
     "data": {
      "text/plain": "array([0.14554351, 0.09247178, 0.16819497, 0.20586004, 0.1846271 ,\n       0.14417149, 0.05913111])"
     },
     "execution_count": 80,
     "metadata": {},
     "output_type": "execute_result"
    }
   ],
   "source": [
    "import numpy as np\n",
    "np.absolute(CV_rfc.best_estimator_.estimator_.feature_importances_)"
   ],
   "metadata": {
    "collapsed": false,
    "pycharm": {
     "name": "#%%\n"
    }
   }
  },
  {
   "cell_type": "code",
   "execution_count": 81,
   "outputs": [
    {
     "data": {
      "text/plain": "array([ True,  True,  True,  True,  True,  True,  True])"
     },
     "execution_count": 81,
     "metadata": {},
     "output_type": "execute_result"
    }
   ],
   "source": [
    "CV_rfc.best_estimator_.support_"
   ],
   "metadata": {
    "collapsed": false,
    "pycharm": {
     "name": "#%%\n"
    }
   }
  },
  {
   "cell_type": "markdown",
   "source": [
    "## Logistic regression"
   ],
   "metadata": {
    "collapsed": false,
    "pycharm": {
     "name": "#%% md\n"
    }
   }
  },
  {
   "cell_type": "code",
   "execution_count": 82,
   "outputs": [],
   "source": [
    "import statsmodels.api as sm\n",
    "from statsmodels.formula.api import logit"
   ],
   "metadata": {
    "collapsed": false,
    "pycharm": {
     "name": "#%%\n"
    }
   }
  },
  {
   "cell_type": "code",
   "execution_count": 83,
   "outputs": [],
   "source": [
    "data = pd.merge(X,Y, left_index=True, right_index=True)"
   ],
   "metadata": {
    "collapsed": false,
    "pycharm": {
     "name": "#%%\n"
    }
   }
  },
  {
   "cell_type": "code",
   "execution_count": 84,
   "outputs": [],
   "source": [
    "data = data[X.columns.tolist() + ['label_any_activity']].astype(float)"
   ],
   "metadata": {
    "collapsed": false,
    "pycharm": {
     "name": "#%%\n"
    }
   }
  },
  {
   "cell_type": "code",
   "execution_count": 85,
   "outputs": [
    {
     "data": {
      "text/plain": "     number of posts  number of contributors  first post date  \\\n0                4.0                     3.0     1.502977e+18   \n1                8.0                     3.0     1.485400e+18   \n2                1.0                     1.0     1.489794e+18   \n3                2.0                     2.0     1.484253e+18   \n4                2.0                     2.0     1.484253e+18   \n..               ...                     ...              ...   \n521              7.0                     6.0     1.522582e+18   \n522              7.0                     6.0     1.522582e+18   \n523              2.0                     2.0     1.492318e+18   \n524             10.0                     5.0     1.494090e+18   \n525              2.0                     2.0     1.518810e+18   \n\n     second post date  last post date  delay first last post  \\\n0        1.502984e+18    1.503048e+18                    0.0   \n1        1.485414e+18    1.495721e+18                  119.0   \n2        1.489794e+18    1.489794e+18                    0.0   \n3        1.484339e+18    1.484339e+18                    0.0   \n4        1.484339e+18    1.484339e+18                    0.0   \n..                ...             ...                    ...   \n521      1.522597e+18    1.527886e+18                   61.0   \n522      1.522597e+18    1.527886e+18                   61.0   \n523      1.492510e+18    1.492510e+18                    2.0   \n524      1.496766e+18    1.512572e+18                  213.0   \n525      1.543719e+18    1.543719e+18                  288.0   \n\n     delay first second post  label_any_activity  \n0                        0.0                 1.0  \n1                        0.0                 1.0  \n2                        0.0                 1.0  \n3                        0.0                 1.0  \n4                        0.0                 1.0  \n..                       ...                 ...  \n521                      0.0                 1.0  \n522                      0.0                 1.0  \n523                      2.0                 1.0  \n524                     30.0                 1.0  \n525                    288.0                 0.0  \n\n[526 rows x 8 columns]",
      "text/html": "<div>\n<style scoped>\n    .dataframe tbody tr th:only-of-type {\n        vertical-align: middle;\n    }\n\n    .dataframe tbody tr th {\n        vertical-align: top;\n    }\n\n    .dataframe thead th {\n        text-align: right;\n    }\n</style>\n<table border=\"1\" class=\"dataframe\">\n  <thead>\n    <tr style=\"text-align: right;\">\n      <th></th>\n      <th>number of posts</th>\n      <th>number of contributors</th>\n      <th>first post date</th>\n      <th>second post date</th>\n      <th>last post date</th>\n      <th>delay first last post</th>\n      <th>delay first second post</th>\n      <th>label_any_activity</th>\n    </tr>\n  </thead>\n  <tbody>\n    <tr>\n      <th>0</th>\n      <td>4.0</td>\n      <td>3.0</td>\n      <td>1.502977e+18</td>\n      <td>1.502984e+18</td>\n      <td>1.503048e+18</td>\n      <td>0.0</td>\n      <td>0.0</td>\n      <td>1.0</td>\n    </tr>\n    <tr>\n      <th>1</th>\n      <td>8.0</td>\n      <td>3.0</td>\n      <td>1.485400e+18</td>\n      <td>1.485414e+18</td>\n      <td>1.495721e+18</td>\n      <td>119.0</td>\n      <td>0.0</td>\n      <td>1.0</td>\n    </tr>\n    <tr>\n      <th>2</th>\n      <td>1.0</td>\n      <td>1.0</td>\n      <td>1.489794e+18</td>\n      <td>1.489794e+18</td>\n      <td>1.489794e+18</td>\n      <td>0.0</td>\n      <td>0.0</td>\n      <td>1.0</td>\n    </tr>\n    <tr>\n      <th>3</th>\n      <td>2.0</td>\n      <td>2.0</td>\n      <td>1.484253e+18</td>\n      <td>1.484339e+18</td>\n      <td>1.484339e+18</td>\n      <td>0.0</td>\n      <td>0.0</td>\n      <td>1.0</td>\n    </tr>\n    <tr>\n      <th>4</th>\n      <td>2.0</td>\n      <td>2.0</td>\n      <td>1.484253e+18</td>\n      <td>1.484339e+18</td>\n      <td>1.484339e+18</td>\n      <td>0.0</td>\n      <td>0.0</td>\n      <td>1.0</td>\n    </tr>\n    <tr>\n      <th>...</th>\n      <td>...</td>\n      <td>...</td>\n      <td>...</td>\n      <td>...</td>\n      <td>...</td>\n      <td>...</td>\n      <td>...</td>\n      <td>...</td>\n    </tr>\n    <tr>\n      <th>521</th>\n      <td>7.0</td>\n      <td>6.0</td>\n      <td>1.522582e+18</td>\n      <td>1.522597e+18</td>\n      <td>1.527886e+18</td>\n      <td>61.0</td>\n      <td>0.0</td>\n      <td>1.0</td>\n    </tr>\n    <tr>\n      <th>522</th>\n      <td>7.0</td>\n      <td>6.0</td>\n      <td>1.522582e+18</td>\n      <td>1.522597e+18</td>\n      <td>1.527886e+18</td>\n      <td>61.0</td>\n      <td>0.0</td>\n      <td>1.0</td>\n    </tr>\n    <tr>\n      <th>523</th>\n      <td>2.0</td>\n      <td>2.0</td>\n      <td>1.492318e+18</td>\n      <td>1.492510e+18</td>\n      <td>1.492510e+18</td>\n      <td>2.0</td>\n      <td>2.0</td>\n      <td>1.0</td>\n    </tr>\n    <tr>\n      <th>524</th>\n      <td>10.0</td>\n      <td>5.0</td>\n      <td>1.494090e+18</td>\n      <td>1.496766e+18</td>\n      <td>1.512572e+18</td>\n      <td>213.0</td>\n      <td>30.0</td>\n      <td>1.0</td>\n    </tr>\n    <tr>\n      <th>525</th>\n      <td>2.0</td>\n      <td>2.0</td>\n      <td>1.518810e+18</td>\n      <td>1.543719e+18</td>\n      <td>1.543719e+18</td>\n      <td>288.0</td>\n      <td>288.0</td>\n      <td>0.0</td>\n    </tr>\n  </tbody>\n</table>\n<p>526 rows × 8 columns</p>\n</div>"
     },
     "execution_count": 85,
     "metadata": {},
     "output_type": "execute_result"
    }
   ],
   "source": [
    "data"
   ],
   "metadata": {
    "collapsed": false,
    "pycharm": {
     "name": "#%%\n"
    }
   }
  },
  {
   "cell_type": "code",
   "execution_count": 86,
   "outputs": [
    {
     "name": "stdout",
     "output_type": "stream",
     "text": [
      "Optimization terminated successfully.\n",
      "         Current function value: 0.629151\n",
      "         Iterations 7\n"
     ]
    }
   ],
   "source": [
    "simple_model = logit(\n",
    "    \"label_any_activity ~ Q('number of posts') + Q('number of contributors') + Q('delay first last post') + Q('delay first second post')\",\n",
    "    data,\n",
    ").fit()"
   ],
   "metadata": {
    "collapsed": false,
    "pycharm": {
     "name": "#%%\n"
    }
   }
  },
  {
   "cell_type": "code",
   "execution_count": 87,
   "outputs": [
    {
     "name": "stdout",
     "output_type": "stream",
     "text": [
      "                           Logit Regression Results                           \n",
      "==============================================================================\n",
      "Dep. Variable:     label_any_activity   No. Observations:                  526\n",
      "Model:                          Logit   Df Residuals:                      521\n",
      "Method:                           MLE   Df Model:                            4\n",
      "Date:                Mon, 22 Aug 2022   Pseudo R-squ.:                 0.05904\n",
      "Time:                        17:10:06   Log-Likelihood:                -330.93\n",
      "converged:                       True   LL-Null:                       -351.70\n",
      "Covariance Type:            nonrobust   LLR p-value:                 2.086e-08\n",
      "================================================================================================\n",
      "                                   coef    std err          z      P>|z|      [0.025      0.975]\n",
      "------------------------------------------------------------------------------------------------\n",
      "Intercept                        0.0869      0.114      0.759      0.448      -0.138       0.311\n",
      "Q('number of posts')             0.0558      0.022      2.593      0.010       0.014       0.098\n",
      "Q('number of contributors')     -0.0698      0.034     -2.057      0.040      -0.136      -0.003\n",
      "Q('delay first last post')       0.0024      0.001      2.711      0.007       0.001       0.004\n",
      "Q('delay first second post')     0.0010      0.003      0.374      0.708      -0.004       0.006\n",
      "================================================================================================\n"
     ]
    }
   ],
   "source": [
    "print(simple_model.summary())"
   ],
   "metadata": {
    "collapsed": false,
    "pycharm": {
     "name": "#%%\n"
    }
   }
  },
  {
   "cell_type": "markdown",
   "source": [
    "## extratrees"
   ],
   "metadata": {
    "collapsed": false,
    "pycharm": {
     "name": "#%% md\n"
    }
   }
  },
  {
   "cell_type": "code",
   "execution_count": 88,
   "outputs": [
    {
     "name": "stdout",
     "output_type": "stream",
     "text": [
      "[0.13001173 0.11466877 0.18099553 0.17666646 0.17195886 0.15704696\n",
      " 0.06865168]\n"
     ]
    },
    {
     "data": {
      "text/plain": "number of posts            0.130012\nnumber of contributors     0.114669\nfirst post date            0.180996\nsecond post date           0.176666\nlast post date             0.171959\ndelay first last post      0.157047\ndelay first second post    0.068652\ndtype: float64"
     },
     "execution_count": 88,
     "metadata": {},
     "output_type": "execute_result"
    }
   ],
   "source": [
    "from sklearn.ensemble import ExtraTreesClassifier\n",
    "import matplotlib.pyplot as plt\n",
    "model = ExtraTreesClassifier()\n",
    "\n",
    "y = Y.label_any_activity\n",
    "\n",
    "model.fit(X,y)\n",
    "\n",
    "print(model.feature_importances_) #use inbuilt class feature_importances of tree based classifiers\n",
    "#plot graph of feature importances for better visualization\n",
    "feat_importances = pd.Series(model.feature_importances_, index=X.columns)\n",
    "feat_importances.plot(kind='barh')\n",
    "# plt.show()\n",
    "feat_importances"
   ],
   "metadata": {
    "collapsed": false,
    "pycharm": {
     "name": "#%%\n"
    }
   }
  },
  {
   "cell_type": "markdown",
   "source": [
    "## selectfrommodel"
   ],
   "metadata": {
    "collapsed": false,
    "pycharm": {
     "name": "#%% md\n"
    }
   }
  },
  {
   "cell_type": "code",
   "execution_count": 89,
   "outputs": [
    {
     "name": "stdout",
     "output_type": "stream",
     "text": [
      "Selected features: ['first post date' 'last post date' 'number of posts'\n",
      " 'number of contributors' 'second post date' 'delay first last post'\n",
      " 'delay first second post']\n"
     ]
    }
   ],
   "source": [
    "from sklearn.linear_model import LassoCV\n",
    "from sklearn.feature_selection import SelectFromModel\n",
    "\n",
    "y = Y.label_any_activity\n",
    "\n",
    "clf = LassoCV().fit(X, y)\n",
    "importance = np.abs(clf.coef_)\n",
    "idx_third = importance.argsort()[-3]\n",
    "threshold = importance[idx_third] + 0.01\n",
    "\n",
    "idx_features = (-importance).argsort()[:10]\n",
    "name_features = np.array(X.columns)[idx_features]\n",
    "print('Selected features: {}'.format(name_features))\n",
    "\n",
    "sfm = SelectFromModel(clf, threshold=threshold)\n",
    "sfm.fit(X, y)\n",
    "X_transform = sfm.transform(X)\n",
    "\n",
    "n_features = sfm.transform(X).shape[1]"
   ],
   "metadata": {
    "collapsed": false,
    "pycharm": {
     "name": "#%%\n"
    }
   }
  },
  {
   "cell_type": "markdown",
   "source": [
    "## Boruta"
   ],
   "metadata": {
    "collapsed": false,
    "pycharm": {
     "name": "#%% md\n"
    }
   }
  },
  {
   "cell_type": "code",
   "execution_count": 91,
   "outputs": [
    {
     "name": "stdout",
     "output_type": "stream",
     "text": [
      "Iteration: \t1 / 100\n",
      "Confirmed: \t0\n",
      "Tentative: \t7\n",
      "Rejected: \t0\n",
      "Iteration: \t2 / 100\n",
      "Confirmed: \t0\n",
      "Tentative: \t7\n",
      "Rejected: \t0\n",
      "Iteration: \t3 / 100\n",
      "Confirmed: \t0\n",
      "Tentative: \t7\n",
      "Rejected: \t0\n",
      "Iteration: \t4 / 100\n",
      "Confirmed: \t0\n",
      "Tentative: \t7\n",
      "Rejected: \t0\n",
      "Iteration: \t5 / 100\n",
      "Confirmed: \t0\n",
      "Tentative: \t7\n",
      "Rejected: \t0\n",
      "Iteration: \t6 / 100\n",
      "Confirmed: \t0\n",
      "Tentative: \t7\n",
      "Rejected: \t0\n",
      "Iteration: \t7 / 100\n",
      "Confirmed: \t0\n",
      "Tentative: \t7\n",
      "Rejected: \t0\n",
      "Iteration: \t8 / 100\n",
      "Confirmed: \t4\n",
      "Tentative: \t2\n",
      "Rejected: \t1\n",
      "Iteration: \t9 / 100\n",
      "Confirmed: \t4\n",
      "Tentative: \t2\n",
      "Rejected: \t1\n",
      "Iteration: \t10 / 100\n",
      "Confirmed: \t4\n",
      "Tentative: \t2\n",
      "Rejected: \t1\n",
      "Iteration: \t11 / 100\n",
      "Confirmed: \t4\n",
      "Tentative: \t2\n",
      "Rejected: \t1\n",
      "Iteration: \t12 / 100\n",
      "Confirmed: \t6\n",
      "Tentative: \t0\n",
      "Rejected: \t1\n",
      "\n",
      "\n",
      "BorutaPy finished running.\n",
      "\n",
      "Iteration: \t13 / 100\n",
      "Confirmed: \t6\n",
      "Tentative: \t0\n",
      "Rejected: \t1\n"
     ]
    }
   ],
   "source": [
    "from sklearn.ensemble import RandomForestClassifier\n",
    "from boruta import BorutaPy\n",
    "\n",
    "y = Y.label_any_activity\n",
    "\n",
    "# NOTE BorutaPy accepts numpy arrays only, hence the .values attribute\n",
    "X_arr = X.values\n",
    "y_arr = y.values\n",
    "\n",
    "# define random forest classifier, with utilising all cores and\n",
    "# sampling in proportion to y labels\n",
    "rf = RandomForestClassifier(n_jobs=-1, class_weight='balanced', max_depth=5)\n",
    "\n",
    "# define Boruta feature selection method\n",
    "feat_selector = BorutaPy(rf, n_estimators='auto', verbose=2, random_state=1)\n",
    "\n",
    "# find all relevant features - 5 features should be selected\n",
    "feat_selector.fit(X_arr, y_arr)\n",
    "\n",
    "# check selected features - first 5 features are selected\n",
    "feat_selector.support_\n",
    "\n",
    "# check ranking of features\n",
    "feat_selector.ranking_\n",
    "\n",
    "# call transform() on X to filter it down to selected features\n",
    "X_filtered = feat_selector.transform(X_arr)"
   ],
   "metadata": {
    "collapsed": false,
    "pycharm": {
     "name": "#%%\n"
    }
   }
  },
  {
   "cell_type": "code",
   "execution_count": 93,
   "outputs": [
    {
     "data": {
      "text/plain": "array([ True,  True,  True,  True,  True,  True, False])"
     },
     "execution_count": 93,
     "metadata": {},
     "output_type": "execute_result"
    }
   ],
   "source": [
    "feat_selector.support_"
   ],
   "metadata": {
    "collapsed": false,
    "pycharm": {
     "name": "#%%\n"
    }
   }
  },
  {
   "cell_type": "code",
   "execution_count": 95,
   "outputs": [
    {
     "data": {
      "text/plain": "{'delay first last post',\n 'first post date',\n 'last post date',\n 'number of contributors',\n 'number of posts',\n 'second post date'}"
     },
     "execution_count": 95,
     "metadata": {},
     "output_type": "execute_result"
    }
   ],
   "source": [
    "set(X.columns[feat_selector.support_])"
   ],
   "metadata": {
    "collapsed": false,
    "pycharm": {
     "name": "#%%\n"
    }
   }
  },
  {
   "cell_type": "code",
   "execution_count": 96,
   "outputs": [
    {
     "data": {
      "text/plain": "{'delay first second post'}"
     },
     "execution_count": 96,
     "metadata": {},
     "output_type": "execute_result"
    }
   ],
   "source": [
    "set(X.columns) - set(X.columns[feat_selector.support_])"
   ],
   "metadata": {
    "collapsed": false,
    "pycharm": {
     "name": "#%%\n"
    }
   }
  },
  {
   "cell_type": "code",
   "execution_count": null,
   "outputs": [],
   "source": [],
   "metadata": {
    "collapsed": false,
    "pycharm": {
     "name": "#%%\n"
    }
   }
  }
 ],
 "metadata": {
  "kernelspec": {
   "display_name": "Python 3",
   "language": "python",
   "name": "python3"
  },
  "language_info": {
   "codemirror_mode": {
    "name": "ipython",
    "version": 2
   },
   "file_extension": ".py",
   "mimetype": "text/x-python",
   "name": "python",
   "nbconvert_exporter": "python",
   "pygments_lexer": "ipython2",
   "version": "2.7.6"
  }
 },
 "nbformat": 4,
 "nbformat_minor": 0
}