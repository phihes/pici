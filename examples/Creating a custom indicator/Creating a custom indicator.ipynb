{
 "cells": [
  {
   "cell_type": "markdown",
   "source": [
    "## Goal\n",
    "\n",
    "In this example, we would like to set up a boolean indicator that is based on whether all contributors to a thread belong to a well-connected group of contributors. We would like to generate two different metrics that let us measure this concept:\n",
    "\n",
    "1. All of a thread's contributors are part of the [k-core](https://en.wikipedia.org/wiki/Degeneracy_%28graph_theory%29#k-Cores) of the co-contributor network. This means that for all contributors, ``degree(contributor_i) >= k``.\n",
    "2. All contributors have commented on other threads: their out-degree in the commenter network is ``>=1``.\n",
    "\n",
    "We would like to be able to generate different values for *k*, e.g., to fine-tune this parameter with machine learning."
   ],
   "metadata": {
    "collapsed": false,
    "pycharm": {
     "name": "#%% md\n"
    }
   }
  },
  {
   "cell_type": "markdown",
   "source": [
    "## Defining the metrics\n",
    "\n",
    "Every indicator is defined as a function that is decorated with the ``@metric`` decorator from ``pici.reporting``, receives a ``Community`` object as first parameter, and returns (by default) a dictionary of metric-name: metric-value items."
   ],
   "metadata": {
    "collapsed": false,
    "pycharm": {
     "name": "#%% md\n"
    }
   }
  },
  {
   "cell_type": "code",
   "execution_count": 57,
   "outputs": [],
   "source": [
    "from pici.reporting import metric\n",
    "\n",
    "# @metric(...)\n",
    "# def my_indicator(community):\n",
    "#   return {\n",
    "#       'metric A': None\n",
    "#   }"
   ],
   "metadata": {
    "collapsed": false,
    "pycharm": {
     "name": "#%%\n"
    }
   }
  },
  {
   "cell_type": "markdown",
   "source": [
    "To correctly generate and combine the output of this indicator method, the decorator needs to be fed with information about the indicator's **level** of measurement, and what it returns (**returntype**).\n",
    "\n",
    "Levels and returntypes are defined as constants in ``pici.datatypes``:"
   ],
   "metadata": {
    "collapsed": false,
    "pycharm": {
     "name": "#%% md\n"
    }
   }
  },
  {
   "cell_type": "code",
   "execution_count": 58,
   "outputs": [
    {
     "name": "stdout",
     "output_type": "stream",
     "text": [
      "['POSTS', 'TOPICS', 'CONTRIBUTORS', 'COMMUNITY']\n",
      "['PLAIN', 'TABLE', 'DATAFRAME']\n"
     ]
    }
   ],
   "source": [
    "from pici.datatypes import CommunityDataLevel, MetricReturnType\n",
    "\n",
    "print(CommunityDataLevel._member_names_)\n",
    "print(MetricReturnType._member_names_)"
   ],
   "metadata": {
    "collapsed": false,
    "pycharm": {
     "name": "#%%\n"
    }
   }
  },
  {
   "cell_type": "markdown",
   "source": [
    "We would like to generate a boolean value for every thread and all of our metrics. Our indicator's level is therefore *TOPICS*, and our return type *DATAFRAME*. The indicator would have to look like this:"
   ],
   "metadata": {
    "collapsed": false,
    "pycharm": {
     "name": "#%% md\n"
    }
   }
  },
  {
   "cell_type": "code",
   "execution_count": 59,
   "outputs": [],
   "source": [
    "@metric(\n",
    "    level=CommunityDataLevel.TOPICS,\n",
    "    returntype=MetricReturnType.DATAFRAME\n",
    ")\n",
    "def all_well_connected(community):\n",
    "    # use the community object to generate the metrics\n",
    "    return {\n",
    "        'all contributors in k-core': False,\n",
    "        'all contributors out_degree >= 1': False\n",
    "    }"
   ],
   "metadata": {
    "collapsed": false,
    "pycharm": {
     "name": "#%%\n"
    }
   }
  },
  {
   "cell_type": "markdown",
   "source": [
    "To simplify the notation, there are shorthands for the common combinations of level and returntype. For example, ``@topics_metric`` would be the same as ``@metric(level=CommunityDataLevel.TOPICS, returntype=MetricReturnType.DATAFRAME)``:"
   ],
   "metadata": {
    "collapsed": false,
    "pycharm": {
     "name": "#%% md\n"
    }
   }
  },
  {
   "cell_type": "code",
   "execution_count": 60,
   "outputs": [],
   "source": [
    "from pici.reporting import topics_metric\n",
    "\n",
    "@topics_metric\n",
    "def all_well_connected(community):\n",
    "    pass\n",
    "    #..."
   ],
   "metadata": {
    "collapsed": false,
    "pycharm": {
     "name": "#%%\n"
    }
   }
  },
  {
   "cell_type": "markdown",
   "source": [
    "We can use the community parameter to access the data that is required for measurement. In our case, we would like to access the threads (topics), the posts (to know which contributor posted in each thread), and the network. Our results should be Pandas.Series with indices that match that of the community's original topics DataFrame index.\n",
    "\n",
    "**The complete indicator definition:**"
   ],
   "metadata": {
    "collapsed": false,
    "pycharm": {
     "name": "#%% md\n"
    }
   }
  },
  {
   "cell_type": "code",
   "execution_count": 61,
   "outputs": [],
   "source": [
    "import networkx as nx\n",
    "import pandas as pd\n",
    "from pici.reporting import topics_metric\n",
    "\n",
    "@topics_metric\n",
    "def all_well_connected(community, k):\n",
    "    \"\"\"\n",
    "    An indicator for whether all contributors to a thread\n",
    "    are well-connected. There are two metrics for this concept,\n",
    "\n",
    "    - ``all contributors in k-core`` - whether all contributors\n",
    "       belong to the co-contributor network's k-core, and\n",
    "    - ``all contributors out_degree >= 1`` - whether all\n",
    "       contributors have commented on at least one thread that\n",
    "       they did not start.\n",
    "\n",
    "    Args:\n",
    "        community: A pici.Community object\n",
    "        k: parameter for k-core metric\n",
    "\n",
    "    Returns:\n",
    "        dict of (str, Pandas.Series)\n",
    "\n",
    "    \"\"\"\n",
    "\n",
    "    # the easiest way to retain the topics index\n",
    "    # is to define our metric on the posts df\n",
    "    # and then aggregate to the topics level:\n",
    "\n",
    "    # a) k-cores\n",
    "\n",
    "    contributor_cores = nx.core_number(\n",
    "        community.co_contributor_graph\n",
    "    )\n",
    "\n",
    "    # a df with one row per post, and True if contributor\n",
    "    # belongs at least to k-core\n",
    "    df = community.posts[[community.topic_column, community.contributor_column]]\n",
    "    df['in_k_core'] = df[community.contributor_column].map(\n",
    "        contributor_cores) >= k\n",
    "\n",
    "    # aggregate to boolean topic-level metric,\n",
    "    # rule: all(in_k_core)==True\n",
    "    all_in_k_core = df.groupby(by=community.topic_column)['in_k_core'].agg(all)\n",
    "\n",
    "    # b) have commented in other threads\n",
    "\n",
    "    out_degree = community.commenter_graph.out_degree\n",
    "\n",
    "    df['out_deg_lg_1'] = df[community.contributor_column].map(\n",
    "        out_degree) >= 1\n",
    "    all_commenters = df.groupby(by=community.topic_column)['out_deg_lg_1'].agg(all)\n",
    "\n",
    "    return {\n",
    "        f'all contributors in {k}-core': all_in_k_core,\n",
    "        'all contributors out_degree >= 1': all_commenters\n",
    "    }"
   ],
   "metadata": {
    "collapsed": false,
    "pycharm": {
     "name": "#%%\n"
    }
   }
  },
  {
   "cell_type": "markdown",
   "source": [
    "## Using the indicator\n",
    "\n",
    "To used this new indicator, it has to registered with the ``Pici`` toolbox object. We can then generate reports that include the indicator, or use it in a ML pipeline."
   ],
   "metadata": {
    "collapsed": false,
    "pycharm": {
     "name": "#%% md\n"
    }
   }
  },
  {
   "cell_type": "markdown",
   "source": [
    "### Set up the toolbox"
   ],
   "metadata": {
    "collapsed": false,
    "pycharm": {
     "name": "#%% md\n"
    }
   }
  },
  {
   "cell_type": "code",
   "execution_count": 62,
   "outputs": [],
   "source": [
    "from pici import Pici\n",
    "\n",
    "p = Pici(\n",
    "    cache_dir='../../cache',\n",
    "    # cache_nrows=5000,\n",
    "    start='2017-01-01',\n",
    "    end='2019-01-01',\n",
    ")"
   ],
   "metadata": {
    "collapsed": false,
    "pycharm": {
     "name": "#%%\n"
    }
   }
  },
  {
   "cell_type": "markdown",
   "source": [
    "### Register indicator"
   ],
   "metadata": {
    "collapsed": false,
    "pycharm": {
     "name": "#%% md\n"
    }
   }
  },
  {
   "cell_type": "markdown",
   "source": [
    "Simply add the indicator function to the metrics registry using ``Pici.add_metrics()``. We could also add metrics to individual communities, e.g. in cases where an indicator is defined using data that is not available in all communities."
   ],
   "metadata": {
    "collapsed": false,
    "pycharm": {
     "name": "#%% md\n"
    }
   }
  },
  {
   "cell_type": "code",
   "execution_count": 63,
   "outputs": [],
   "source": [
    "p.add_metric(all_well_connected)"
   ],
   "metadata": {
    "collapsed": false,
    "pycharm": {
     "name": "#%%\n"
    }
   }
  },
  {
   "cell_type": "markdown",
   "source": [
    "### Generate results"
   ],
   "metadata": {
    "collapsed": false,
    "pycharm": {
     "name": "#%% md\n"
    }
   }
  },
  {
   "cell_type": "markdown",
   "source": [
    "We can now use the metric in a report. We can pass different values for *k* to generate multiple metrics that each appear as one column in the report:"
   ],
   "metadata": {
    "collapsed": false,
    "pycharm": {
     "name": "#%% md\n"
    }
   }
  },
  {
   "cell_type": "code",
   "execution_count": 64,
   "outputs": [],
   "source": [
    "ks = [3,5,10,20]\n",
    "\n",
    "rep = p.generate_report([\n",
    "    (all_well_connected, {'k':k})\n",
    "    for k in ks\n",
    "]).results"
   ],
   "metadata": {
    "collapsed": false,
    "pycharm": {
     "name": "#%%\n"
    }
   }
  },
  {
   "cell_type": "code",
   "execution_count": 65,
   "outputs": [
    {
     "data": {
      "text/plain": "                                                    all contributors in 5-core  \\\n1-click-power-measurement-of-any-device-in-your...                        True   \n10000-kwh-ceiling-in-emoncms                                              True   \n100a-0-5v-dc-output-ct-interesting                                       False   \n120-volt-service-in-mexico                                                True   \n2-phase-whole-house-and-pv-monitoring-from-brazil                         True   \n...                                                                        ...   \nhello-all-you-do-goood-simon-from-thailand                               False   \nmachines-built-in-brazil                                                  True   \nhello-anyone-from-brasil                                                 False   \nmotor-for-shredder                                                        True   \nhello-from-america-north-that-is                                          True   \n\n                                                       community_name  \\\n1-click-power-measurement-of-any-device-in-your...  OpenEnergyMonitor   \n10000-kwh-ceiling-in-emoncms                        OpenEnergyMonitor   \n100a-0-5v-dc-output-ct-interesting                  OpenEnergyMonitor   \n120-volt-service-in-mexico                          OpenEnergyMonitor   \n2-phase-whole-house-and-pv-monitoring-from-brazil   OpenEnergyMonitor   \n...                                                               ...   \nhello-all-you-do-goood-simon-from-thailand            PreciousPlastic   \nmachines-built-in-brazil                              PreciousPlastic   \nhello-anyone-from-brasil                              PreciousPlastic   \nmotor-for-shredder                                    PreciousPlastic   \nhello-from-america-north-that-is                      PreciousPlastic   \n\n                                                    all contributors in 10-core  \\\n1-click-power-measurement-of-any-device-in-your...                         True   \n10000-kwh-ceiling-in-emoncms                                               True   \n100a-0-5v-dc-output-ct-interesting                                        False   \n120-volt-service-in-mexico                                                False   \n2-phase-whole-house-and-pv-monitoring-from-brazil                         False   \n...                                                                         ...   \nhello-all-you-do-goood-simon-from-thailand                                False   \nmachines-built-in-brazil                                                   True   \nhello-anyone-from-brasil                                                  False   \nmotor-for-shredder                                                         True   \nhello-from-america-north-that-is                                           True   \n\n                                                    all contributors in 20-core  \\\n1-click-power-measurement-of-any-device-in-your...                         True   \n10000-kwh-ceiling-in-emoncms                                              False   \n100a-0-5v-dc-output-ct-interesting                                        False   \n120-volt-service-in-mexico                                                False   \n2-phase-whole-house-and-pv-monitoring-from-brazil                         False   \n...                                                                         ...   \nhello-all-you-do-goood-simon-from-thailand                                False   \nmachines-built-in-brazil                                                   True   \nhello-anyone-from-brasil                                                  False   \nmotor-for-shredder                                                         True   \nhello-from-america-north-that-is                                          False   \n\n                                                    all contributors in 3-core  \\\n1-click-power-measurement-of-any-device-in-your...                        True   \n10000-kwh-ceiling-in-emoncms                                              True   \n100a-0-5v-dc-output-ct-interesting                                        True   \n120-volt-service-in-mexico                                                True   \n2-phase-whole-house-and-pv-monitoring-from-brazil                         True   \n...                                                                        ...   \nhello-all-you-do-goood-simon-from-thailand                               False   \nmachines-built-in-brazil                                                  True   \nhello-anyone-from-brasil                                                  True   \nmotor-for-shredder                                                        True   \nhello-from-america-north-that-is                                          True   \n\n                                                    all contributors out_degree >= 1  \n1-click-power-measurement-of-any-device-in-your...                              True  \n10000-kwh-ceiling-in-emoncms                                                    True  \n100a-0-5v-dc-output-ct-interesting                                              True  \n120-volt-service-in-mexico                                                      True  \n2-phase-whole-house-and-pv-monitoring-from-brazil                               True  \n...                                                                              ...  \nhello-all-you-do-goood-simon-from-thailand                                     False  \nmachines-built-in-brazil                                                        True  \nhello-anyone-from-brasil                                                       False  \nmotor-for-shredder                                                              True  \nhello-from-america-north-that-is                                                True  \n\n[152075 rows x 6 columns]",
      "text/html": "<div>\n<style scoped>\n    .dataframe tbody tr th:only-of-type {\n        vertical-align: middle;\n    }\n\n    .dataframe tbody tr th {\n        vertical-align: top;\n    }\n\n    .dataframe thead th {\n        text-align: right;\n    }\n</style>\n<table border=\"1\" class=\"dataframe\">\n  <thead>\n    <tr style=\"text-align: right;\">\n      <th></th>\n      <th>all contributors in 5-core</th>\n      <th>community_name</th>\n      <th>all contributors in 10-core</th>\n      <th>all contributors in 20-core</th>\n      <th>all contributors in 3-core</th>\n      <th>all contributors out_degree &gt;= 1</th>\n    </tr>\n  </thead>\n  <tbody>\n    <tr>\n      <th>1-click-power-measurement-of-any-device-in-your-house</th>\n      <td>True</td>\n      <td>OpenEnergyMonitor</td>\n      <td>True</td>\n      <td>True</td>\n      <td>True</td>\n      <td>True</td>\n    </tr>\n    <tr>\n      <th>10000-kwh-ceiling-in-emoncms</th>\n      <td>True</td>\n      <td>OpenEnergyMonitor</td>\n      <td>True</td>\n      <td>False</td>\n      <td>True</td>\n      <td>True</td>\n    </tr>\n    <tr>\n      <th>100a-0-5v-dc-output-ct-interesting</th>\n      <td>False</td>\n      <td>OpenEnergyMonitor</td>\n      <td>False</td>\n      <td>False</td>\n      <td>True</td>\n      <td>True</td>\n    </tr>\n    <tr>\n      <th>120-volt-service-in-mexico</th>\n      <td>True</td>\n      <td>OpenEnergyMonitor</td>\n      <td>False</td>\n      <td>False</td>\n      <td>True</td>\n      <td>True</td>\n    </tr>\n    <tr>\n      <th>2-phase-whole-house-and-pv-monitoring-from-brazil</th>\n      <td>True</td>\n      <td>OpenEnergyMonitor</td>\n      <td>False</td>\n      <td>False</td>\n      <td>True</td>\n      <td>True</td>\n    </tr>\n    <tr>\n      <th>...</th>\n      <td>...</td>\n      <td>...</td>\n      <td>...</td>\n      <td>...</td>\n      <td>...</td>\n      <td>...</td>\n    </tr>\n    <tr>\n      <th>hello-all-you-do-goood-simon-from-thailand</th>\n      <td>False</td>\n      <td>PreciousPlastic</td>\n      <td>False</td>\n      <td>False</td>\n      <td>False</td>\n      <td>False</td>\n    </tr>\n    <tr>\n      <th>machines-built-in-brazil</th>\n      <td>True</td>\n      <td>PreciousPlastic</td>\n      <td>True</td>\n      <td>True</td>\n      <td>True</td>\n      <td>True</td>\n    </tr>\n    <tr>\n      <th>hello-anyone-from-brasil</th>\n      <td>False</td>\n      <td>PreciousPlastic</td>\n      <td>False</td>\n      <td>False</td>\n      <td>True</td>\n      <td>False</td>\n    </tr>\n    <tr>\n      <th>motor-for-shredder</th>\n      <td>True</td>\n      <td>PreciousPlastic</td>\n      <td>True</td>\n      <td>True</td>\n      <td>True</td>\n      <td>True</td>\n    </tr>\n    <tr>\n      <th>hello-from-america-north-that-is</th>\n      <td>True</td>\n      <td>PreciousPlastic</td>\n      <td>True</td>\n      <td>False</td>\n      <td>True</td>\n      <td>True</td>\n    </tr>\n  </tbody>\n</table>\n<p>152075 rows × 6 columns</p>\n</div>"
     },
     "execution_count": 65,
     "metadata": {},
     "output_type": "execute_result"
    }
   ],
   "source": [
    "rep"
   ],
   "metadata": {
    "collapsed": false,
    "pycharm": {
     "name": "#%%\n"
    }
   }
  },
  {
   "cell_type": "markdown",
   "source": [
    "The report is a Pandas DataFrame that can be used for further analyses and visualization:"
   ],
   "metadata": {
    "collapsed": false,
    "pycharm": {
     "name": "#%% md\n"
    }
   }
  },
  {
   "cell_type": "code",
   "execution_count": 66,
   "outputs": [
    {
     "data": {
      "text/plain": "[Text(0.5, 1.0, 'share of threads where all contributors are part of the k-core of the co-contributor network')]"
     },
     "execution_count": 66,
     "metadata": {},
     "output_type": "execute_result"
    },
    {
     "data": {
      "text/plain": "<Figure size 432x288 with 1 Axes>",
      "image/png": "[encoded data removed]"
     },
     "metadata": {},
     "output_type": "display_data"
    }
   ],
   "source": [
    "import seaborn as sns\n",
    "\n",
    "id_col = 'community_name'\n",
    "df = rep.rename(columns={\n",
    "    f'all contributors in {k}-core': k for k in ks\n",
    "})\n",
    "df = df.groupby(by='community_name').mean().reset_index()[\n",
    "    [id_col] + ks\n",
    "]\n",
    "df = pd.melt(df, id_vars=[id_col], value_vars=ks, var_name='k')\n",
    "\n",
    "sns.barplot(x=id_col, y='value', hue='k', data=df).set(title=\"share of threads where all contributors are part of the k-core of the co-contributor network\")"
   ],
   "metadata": {
    "collapsed": false,
    "pycharm": {
     "name": "#%%\n"
    }
   }
  },
  {
   "cell_type": "code",
   "execution_count": 67,
   "outputs": [
    {
     "data": {
      "text/plain": "[Text(0.5, 1.0, 'share of threads where all contributors are also commenters on other threads')]"
     },
     "execution_count": 67,
     "metadata": {},
     "output_type": "execute_result"
    },
    {
     "data": {
      "text/plain": "<Figure size 432x288 with 1 Axes>",
      "image/png": "[encoded data removed]"
     },
     "metadata": {},
     "output_type": "display_data"
    }
   ],
   "source": [
    "metric_cols_commenters = ['all contributors out_degree >= 1']\n",
    "percent_commenters = pd.melt(rep.groupby(by='community_name').mean().reset_index()[\n",
    "                                       [id_col] + metric_cols_commenters\n",
    "                                       ],id_vars=[id_col], value_vars=metric_cols_commenters)\n",
    "\n",
    "sns.barplot(x='community_name', y='value', data=percent_commenters).set(title=\"share of threads where all contributors are also commenters on other threads\")"
   ],
   "metadata": {
    "collapsed": false,
    "pycharm": {
     "name": "#%%\n"
    }
   }
  },
  {
   "cell_type": "markdown",
   "source": [
    "We can also use the indicator and its parameter in a sklearn pipeline (e.g., to find an optimal value for *k* by adding a classifier and cross-validation)."
   ],
   "metadata": {
    "collapsed": false,
    "pycharm": {
     "name": "#%% md\n"
    }
   }
  },
  {
   "cell_type": "code",
   "execution_count": 68,
   "outputs": [],
   "source": [
    "pipe = p.pipelines.topics(parameters={\n",
    "    'all_well_connected': {'k': 10}\n",
    "})"
   ],
   "metadata": {
    "collapsed": false,
    "pycharm": {
     "name": "#%%\n"
    }
   }
  },
  {
   "cell_type": "code",
   "execution_count": 69,
   "outputs": [
    {
     "data": {
      "text/plain": "                                                                      all contributors in 10-core  \\\ntopic_slug                                         community_name                                   \n1-click-power-measurement-of-any-device-in-your... OpenEnergyMonitor                         True   \n10000-kwh-ceiling-in-emoncms                       OpenEnergyMonitor                         True   \n100a-0-5v-dc-output-ct-interesting                 OpenEnergyMonitor                        False   \n120-volt-service-in-mexico                         OpenEnergyMonitor                        False   \n2-phase-whole-house-and-pv-monitoring-from-brazil  OpenEnergyMonitor                        False   \n...                                                                                           ...   \nzagreb-cooperative-space                           PreciousPlastic                          False   \nzelenew-basket-extrusion-v4                        PreciousPlastic                           True   \nzelenew_sorting-tray                               PreciousPlastic                          False   \nzero-waste-key-tag                                 PreciousPlastic                          False   \nzihuatanejo-mexio-here                             PreciousPlastic                          False   \n\n                                                                      all contributors out_degree >= 1  \\\ntopic_slug                                         community_name                                        \n1-click-power-measurement-of-any-device-in-your... OpenEnergyMonitor                              True   \n10000-kwh-ceiling-in-emoncms                       OpenEnergyMonitor                              True   \n100a-0-5v-dc-output-ct-interesting                 OpenEnergyMonitor                              True   \n120-volt-service-in-mexico                         OpenEnergyMonitor                              True   \n2-phase-whole-house-and-pv-monitoring-from-brazil  OpenEnergyMonitor                              True   \n...                                                                                                ...   \nzagreb-cooperative-space                           PreciousPlastic                                True   \nzelenew-basket-extrusion-v4                        PreciousPlastic                                True   \nzelenew_sorting-tray                               PreciousPlastic                                True   \nzero-waste-key-tag                                 PreciousPlastic                               False   \nzihuatanejo-mexio-here                             PreciousPlastic                               False   \n\n                                                                      number of posts  \\\ntopic_slug                                         community_name                       \n1-click-power-measurement-of-any-device-in-your... OpenEnergyMonitor                3   \n10000-kwh-ceiling-in-emoncms                       OpenEnergyMonitor               11   \n100a-0-5v-dc-output-ct-interesting                 OpenEnergyMonitor                2   \n120-volt-service-in-mexico                         OpenEnergyMonitor                3   \n2-phase-whole-house-and-pv-monitoring-from-brazil  OpenEnergyMonitor               11   \n...                                                                               ...   \nzagreb-cooperative-space                           PreciousPlastic                  1   \nzelenew-basket-extrusion-v4                        PreciousPlastic                  3   \nzelenew_sorting-tray                               PreciousPlastic                  1   \nzero-waste-key-tag                                 PreciousPlastic                 20   \nzihuatanejo-mexio-here                             PreciousPlastic                  2   \n\n                                                                      number of contributors  \\\ntopic_slug                                         community_name                              \n1-click-power-measurement-of-any-device-in-your... OpenEnergyMonitor                       2   \n10000-kwh-ceiling-in-emoncms                       OpenEnergyMonitor                       4   \n100a-0-5v-dc-output-ct-interesting                 OpenEnergyMonitor                       2   \n120-volt-service-in-mexico                         OpenEnergyMonitor                       3   \n2-phase-whole-house-and-pv-monitoring-from-brazil  OpenEnergyMonitor                       4   \n...                                                                                      ...   \nzagreb-cooperative-space                           PreciousPlastic                         1   \nzelenew-basket-extrusion-v4                        PreciousPlastic                         3   \nzelenew_sorting-tray                               PreciousPlastic                         1   \nzero-waste-key-tag                                 PreciousPlastic                         8   \nzihuatanejo-mexio-here                             PreciousPlastic                         2   \n\n                                                                         first post date  \\\ntopic_slug                                         community_name                          \n1-click-power-measurement-of-any-device-in-your... OpenEnergyMonitor 2017-02-09 00:00:00   \n10000-kwh-ceiling-in-emoncms                       OpenEnergyMonitor 2017-04-17 00:00:00   \n100a-0-5v-dc-output-ct-interesting                 OpenEnergyMonitor 2018-08-26 00:00:00   \n120-volt-service-in-mexico                         OpenEnergyMonitor 2017-06-08 00:00:00   \n2-phase-whole-house-and-pv-monitoring-from-brazil  OpenEnergyMonitor 2017-09-13 00:00:00   \n...                                                                                  ...   \nzagreb-cooperative-space                           PreciousPlastic   2018-12-26 18:24:00   \nzelenew-basket-extrusion-v4                        PreciousPlastic   2018-06-12 13:24:00   \nzelenew_sorting-tray                               PreciousPlastic   2017-02-03 02:54:00   \nzero-waste-key-tag                                 PreciousPlastic   2017-02-07 10:11:00   \nzihuatanejo-mexio-here                             PreciousPlastic   2018-03-27 20:43:00   \n\n                                                                        second post date  \\\ntopic_slug                                         community_name                          \n1-click-power-measurement-of-any-device-in-your... OpenEnergyMonitor 2017-02-09 00:00:00   \n10000-kwh-ceiling-in-emoncms                       OpenEnergyMonitor 2017-04-17 00:00:00   \n100a-0-5v-dc-output-ct-interesting                 OpenEnergyMonitor 2018-08-26 00:00:00   \n120-volt-service-in-mexico                         OpenEnergyMonitor 2017-06-08 00:00:00   \n2-phase-whole-house-and-pv-monitoring-from-brazil  OpenEnergyMonitor 2017-09-13 00:00:00   \n...                                                                                  ...   \nzagreb-cooperative-space                           PreciousPlastic   2018-12-26 18:24:00   \nzelenew-basket-extrusion-v4                        PreciousPlastic   2018-11-28 00:01:00   \nzelenew_sorting-tray                               PreciousPlastic   2017-02-03 02:54:00   \nzero-waste-key-tag                                 PreciousPlastic   2017-03-07 17:42:00   \nzihuatanejo-mexio-here                             PreciousPlastic   2018-10-16 23:08:00   \n\n                                                                          last post date  \\\ntopic_slug                                         community_name                          \n1-click-power-measurement-of-any-device-in-your... OpenEnergyMonitor 2017-02-09 00:00:00   \n10000-kwh-ceiling-in-emoncms                       OpenEnergyMonitor 2017-04-20 00:00:00   \n100a-0-5v-dc-output-ct-interesting                 OpenEnergyMonitor 2018-08-26 00:00:00   \n120-volt-service-in-mexico                         OpenEnergyMonitor 2017-06-09 00:00:00   \n2-phase-whole-house-and-pv-monitoring-from-brazil  OpenEnergyMonitor 2017-09-15 00:00:00   \n...                                                                                  ...   \nzagreb-cooperative-space                           PreciousPlastic   2018-12-26 18:24:00   \nzelenew-basket-extrusion-v4                        PreciousPlastic   2018-12-13 07:35:00   \nzelenew_sorting-tray                               PreciousPlastic   2017-02-03 02:54:00   \nzero-waste-key-tag                                 PreciousPlastic   2018-02-19 12:22:00   \nzihuatanejo-mexio-here                             PreciousPlastic   2018-10-16 23:08:00   \n\n                                                                      delay first last post  \\\ntopic_slug                                         community_name                             \n1-click-power-measurement-of-any-device-in-your... OpenEnergyMonitor                      0   \n10000-kwh-ceiling-in-emoncms                       OpenEnergyMonitor                      3   \n100a-0-5v-dc-output-ct-interesting                 OpenEnergyMonitor                      0   \n120-volt-service-in-mexico                         OpenEnergyMonitor                      1   \n2-phase-whole-house-and-pv-monitoring-from-brazil  OpenEnergyMonitor                      2   \n...                                                                                     ...   \nzagreb-cooperative-space                           PreciousPlastic                        0   \nzelenew-basket-extrusion-v4                        PreciousPlastic                      183   \nzelenew_sorting-tray                               PreciousPlastic                        0   \nzero-waste-key-tag                                 PreciousPlastic                      377   \nzihuatanejo-mexio-here                             PreciousPlastic                      203   \n\n                                                                      delay first second post  \ntopic_slug                                         community_name                              \n1-click-power-measurement-of-any-device-in-your... OpenEnergyMonitor                        0  \n10000-kwh-ceiling-in-emoncms                       OpenEnergyMonitor                        0  \n100a-0-5v-dc-output-ct-interesting                 OpenEnergyMonitor                        0  \n120-volt-service-in-mexico                         OpenEnergyMonitor                        0  \n2-phase-whole-house-and-pv-monitoring-from-brazil  OpenEnergyMonitor                        0  \n...                                                                                       ...  \nzagreb-cooperative-space                           PreciousPlastic                          0  \nzelenew-basket-extrusion-v4                        PreciousPlastic                        168  \nzelenew_sorting-tray                               PreciousPlastic                          0  \nzero-waste-key-tag                                 PreciousPlastic                         28  \nzihuatanejo-mexio-here                             PreciousPlastic                        203  \n\n[13758 rows x 9 columns]",
      "text/html": "<div>\n<style scoped>\n    .dataframe tbody tr th:only-of-type {\n        vertical-align: middle;\n    }\n\n    .dataframe tbody tr th {\n        vertical-align: top;\n    }\n\n    .dataframe thead th {\n        text-align: right;\n    }\n</style>\n<table border=\"1\" class=\"dataframe\">\n  <thead>\n    <tr style=\"text-align: right;\">\n      <th></th>\n      <th></th>\n      <th>all contributors in 10-core</th>\n      <th>all contributors out_degree &gt;= 1</th>\n      <th>number of posts</th>\n      <th>number of contributors</th>\n      <th>first post date</th>\n      <th>second post date</th>\n      <th>last post date</th>\n      <th>delay first last post</th>\n      <th>delay first second post</th>\n    </tr>\n    <tr>\n      <th>topic_slug</th>\n      <th>community_name</th>\n      <th></th>\n      <th></th>\n      <th></th>\n      <th></th>\n      <th></th>\n      <th></th>\n      <th></th>\n      <th></th>\n      <th></th>\n    </tr>\n  </thead>\n  <tbody>\n    <tr>\n      <th>1-click-power-measurement-of-any-device-in-your-house</th>\n      <th>OpenEnergyMonitor</th>\n      <td>True</td>\n      <td>True</td>\n      <td>3</td>\n      <td>2</td>\n      <td>2017-02-09 00:00:00</td>\n      <td>2017-02-09 00:00:00</td>\n      <td>2017-02-09 00:00:00</td>\n      <td>0</td>\n      <td>0</td>\n    </tr>\n    <tr>\n      <th>10000-kwh-ceiling-in-emoncms</th>\n      <th>OpenEnergyMonitor</th>\n      <td>True</td>\n      <td>True</td>\n      <td>11</td>\n      <td>4</td>\n      <td>2017-04-17 00:00:00</td>\n      <td>2017-04-17 00:00:00</td>\n      <td>2017-04-20 00:00:00</td>\n      <td>3</td>\n      <td>0</td>\n    </tr>\n    <tr>\n      <th>100a-0-5v-dc-output-ct-interesting</th>\n      <th>OpenEnergyMonitor</th>\n      <td>False</td>\n      <td>True</td>\n      <td>2</td>\n      <td>2</td>\n      <td>2018-08-26 00:00:00</td>\n      <td>2018-08-26 00:00:00</td>\n      <td>2018-08-26 00:00:00</td>\n      <td>0</td>\n      <td>0</td>\n    </tr>\n    <tr>\n      <th>120-volt-service-in-mexico</th>\n      <th>OpenEnergyMonitor</th>\n      <td>False</td>\n      <td>True</td>\n      <td>3</td>\n      <td>3</td>\n      <td>2017-06-08 00:00:00</td>\n      <td>2017-06-08 00:00:00</td>\n      <td>2017-06-09 00:00:00</td>\n      <td>1</td>\n      <td>0</td>\n    </tr>\n    <tr>\n      <th>2-phase-whole-house-and-pv-monitoring-from-brazil</th>\n      <th>OpenEnergyMonitor</th>\n      <td>False</td>\n      <td>True</td>\n      <td>11</td>\n      <td>4</td>\n      <td>2017-09-13 00:00:00</td>\n      <td>2017-09-13 00:00:00</td>\n      <td>2017-09-15 00:00:00</td>\n      <td>2</td>\n      <td>0</td>\n    </tr>\n    <tr>\n      <th>...</th>\n      <th>...</th>\n      <td>...</td>\n      <td>...</td>\n      <td>...</td>\n      <td>...</td>\n      <td>...</td>\n      <td>...</td>\n      <td>...</td>\n      <td>...</td>\n      <td>...</td>\n    </tr>\n    <tr>\n      <th>zagreb-cooperative-space</th>\n      <th>PreciousPlastic</th>\n      <td>False</td>\n      <td>True</td>\n      <td>1</td>\n      <td>1</td>\n      <td>2018-12-26 18:24:00</td>\n      <td>2018-12-26 18:24:00</td>\n      <td>2018-12-26 18:24:00</td>\n      <td>0</td>\n      <td>0</td>\n    </tr>\n    <tr>\n      <th>zelenew-basket-extrusion-v4</th>\n      <th>PreciousPlastic</th>\n      <td>True</td>\n      <td>True</td>\n      <td>3</td>\n      <td>3</td>\n      <td>2018-06-12 13:24:00</td>\n      <td>2018-11-28 00:01:00</td>\n      <td>2018-12-13 07:35:00</td>\n      <td>183</td>\n      <td>168</td>\n    </tr>\n    <tr>\n      <th>zelenew_sorting-tray</th>\n      <th>PreciousPlastic</th>\n      <td>False</td>\n      <td>True</td>\n      <td>1</td>\n      <td>1</td>\n      <td>2017-02-03 02:54:00</td>\n      <td>2017-02-03 02:54:00</td>\n      <td>2017-02-03 02:54:00</td>\n      <td>0</td>\n      <td>0</td>\n    </tr>\n    <tr>\n      <th>zero-waste-key-tag</th>\n      <th>PreciousPlastic</th>\n      <td>False</td>\n      <td>False</td>\n      <td>20</td>\n      <td>8</td>\n      <td>2017-02-07 10:11:00</td>\n      <td>2017-03-07 17:42:00</td>\n      <td>2018-02-19 12:22:00</td>\n      <td>377</td>\n      <td>28</td>\n    </tr>\n    <tr>\n      <th>zihuatanejo-mexio-here</th>\n      <th>PreciousPlastic</th>\n      <td>False</td>\n      <td>False</td>\n      <td>2</td>\n      <td>2</td>\n      <td>2018-03-27 20:43:00</td>\n      <td>2018-10-16 23:08:00</td>\n      <td>2018-10-16 23:08:00</td>\n      <td>203</td>\n      <td>203</td>\n    </tr>\n  </tbody>\n</table>\n<p>13758 rows × 9 columns</p>\n</div>"
     },
     "execution_count": 69,
     "metadata": {},
     "output_type": "execute_result"
    }
   ],
   "source": [
    "pipe.transform(p.communities)"
   ],
   "metadata": {
    "collapsed": false,
    "pycharm": {
     "name": "#%%\n"
    }
   }
  },
  {
   "cell_type": "markdown",
   "source": [
    "**Note:** *Reports and pipelines are two ways of generating indicator values in PICI. Generally, pipelines should generate results faster, as the sklearn implementation can parallelize calculation per indicator and community.*"
   ],
   "metadata": {
    "collapsed": false,
    "pycharm": {
     "name": "#%% md\n"
    }
   }
  }
 ],
 "metadata": {
  "kernelspec": {
   "display_name": "Python 3",
   "language": "python",
   "name": "python3"
  },
  "language_info": {
   "codemirror_mode": {
    "name": "ipython",
    "version": 2
   },
   "file_extension": ".py",
   "mimetype": "text/x-python",
   "name": "python",
   "nbconvert_exporter": "python",
   "pygments_lexer": "ipython2",
   "version": "2.7.6"
  }
 },
 "nbformat": 4,
 "nbformat_minor": 0
}