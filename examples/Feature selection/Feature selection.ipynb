{
 "cells": [
  {
   "cell_type": "code",
   "execution_count": 1,
   "outputs": [
    {
     "name": "stdout",
     "output_type": "stream",
     "text": [
      "Note: to be able to use all crisp methods, you need to install some additional packages:  {'graph_tool', 'infomap', 'wurlitzer', 'karateclub'}\n",
      "Note: to be able to use all overlapping methods, you need to install some additional packages:  {'karateclub', 'ASLPAw'}\n",
      "Note: to be able to use all bipartite methods, you need to install some additional packages:  {'infomap', 'wurlitzer'}\n"
     ]
    }
   ],
   "source": [
    "import pandas as pd\n",
    "from pici.labelling import InnovationLabels\n",
    "from pici import Pici\n",
    "\n",
    "p = Pici(\n",
    "    cache_dir='../../cache',\n",
    "    #cache_nrows=10000,\n",
    "    start='2017-01-01',\n",
    "    end='2019-01-01',\n",
    "    labels=[\n",
    "        InnovationLabels(\n",
    "            pd.read_excel(\"../../pici/tests/test_integrated_labels.xlsx\")\n",
    "        ),\n",
    "        InnovationLabels().from_limesurvey(\n",
    "            pd.read_excel(\"../../pici/tests/results-survey664322_2022-08-01.xlsx\"),\n",
    "            drop_labellers=[\"Test\",\"test\"]\n",
    "        )\n",
    "    ],\n",
    ")"
   ],
   "metadata": {
    "collapsed": false,
    "pycharm": {
     "name": "#%%\n"
    }
   }
  },
  {
   "cell_type": "code",
   "execution_count": 2,
   "outputs": [],
   "source": [
    "import networkx as nx\n",
    "import pandas as pd\n",
    "from pici.reporting import topics_metric\n",
    "\n",
    "@topics_metric\n",
    "def all_well_connected(community, k):\n",
    "    \"\"\"\n",
    "    An indicator for whether all contributors to a thread\n",
    "    are well-connected. There are two metrics for this concept,\n",
    "\n",
    "    - ``all contributors in k-core`` - whether all contributors\n",
    "       belong to the co-contributor network's k-core, and\n",
    "    - ``all contributors out_degree >= 1`` - whether all\n",
    "       contributors have commented on at least one thread that\n",
    "       they did not start.\n",
    "\n",
    "    Args:\n",
    "        community: A pici.Community object\n",
    "        k: parameter for k-core metric\n",
    "\n",
    "    Returns:\n",
    "        dict of (str, Pandas.Series)\n",
    "\n",
    "    \"\"\"\n",
    "\n",
    "    # the easiest way to retain the topics index\n",
    "    # is to define our metric on the posts df\n",
    "    # and then aggregate to the topics level:\n",
    "\n",
    "    # a) k-cores\n",
    "\n",
    "    contributor_cores = nx.core_number(\n",
    "        community.co_contributor_graph\n",
    "    )\n",
    "\n",
    "    # a df with one row per post, and True if contributor\n",
    "    # belongs at least to k-core\n",
    "    df = community.posts[[community.topic_column, community.contributor_column]]\n",
    "    df['in_k_core'] = df[community.contributor_column].map(\n",
    "        contributor_cores) >= k\n",
    "\n",
    "    # aggregate to boolean topic-level metric,\n",
    "    # rule: all(in_k_core)==True\n",
    "    all_in_k_core = df.groupby(by=community.topic_column)['in_k_core'].agg(all)\n",
    "\n",
    "    # b) have commented in other threads\n",
    "\n",
    "    out_degree = community.commenter_graph.out_degree\n",
    "\n",
    "    df['out_deg_lg_1'] = df[community.contributor_column].map(\n",
    "        out_degree) >= 1\n",
    "    all_commenters = df.groupby(by=community.topic_column)['out_deg_lg_1'].agg(all)\n",
    "\n",
    "    return {\n",
    "        f'all contributors in {k}-core': all_in_k_core,\n",
    "        'all contributors out_degree >= 1': all_commenters\n",
    "    }"
   ],
   "metadata": {
    "collapsed": false,
    "pycharm": {
     "name": "#%%\n"
    }
   }
  },
  {
   "cell_type": "code",
   "execution_count": 3,
   "outputs": [],
   "source": [
    "p.add_metric(all_well_connected)"
   ],
   "metadata": {
    "collapsed": false,
    "pycharm": {
     "name": "#%%\n"
    }
   }
  },
  {
   "cell_type": "code",
   "execution_count": 4,
   "outputs": [],
   "source": [
    "# prepare features and labels\n",
    "X, Y = p.get_topic_features(parameters={\n",
    "    'all_well_connected': {'k': 10}\n",
    "})\n",
    "X = X.apply(pd.to_numeric)"
   ],
   "metadata": {
    "collapsed": false,
    "pycharm": {
     "name": "#%%\n"
    }
   }
  },
  {
   "cell_type": "code",
   "execution_count": 5,
   "outputs": [
    {
     "data": {
      "text/plain": "                   labeller   community_name  \\\n0       petrol39blackberry0    OpenStreetMap   \n1    xwegner_lgh@outlook.de    OpenStreetMap   \n2              anna+philipp    OpenStreetMap   \n3              anna+philipp    OpenStreetMap   \n4          Jan-Philipp (JP)    OpenStreetMap   \n..                      ...              ...   \n521        Jan-Philipp (JP)  PreciousPlastic   \n522                  Jan P.  PreciousPlastic   \n523                  Larilu  PreciousPlastic   \n524                  Larilu  PreciousPlastic   \n525                  Larilu  PreciousPlastic   \n\n                                                   url  label_idea  \\\n0    https://forum.openstreetmap.org/viewtopic.php?...        True   \n1    https://forum.openstreetmap.org/viewtopic.php?...        True   \n2    https://forum.openstreetmap.org/viewtopic.php?...        True   \n3    https://forum.openstreetmap.org/viewtopic.php?...        True   \n4    https://forum.openstreetmap.org/viewtopic.php?...        True   \n..                                                 ...         ...   \n521  https://davehakkens.nl/community/forums/topic/...        True   \n522  https://davehakkens.nl/community/forums/topic/...        True   \n523  https://davehakkens.nl/community/forums/topic/...        True   \n524  https://davehakkens.nl/community/forums/topic/...        True   \n525  https://davehakkens.nl/community/forums/topic/...       False   \n\n     label_evaluation  label_implementation  label_modification  \\\n0                True                 False               False   \n1                True                 False                True   \n2                True                 False               False   \n3                True                 False                True   \n4                True                 False               False   \n..                ...                   ...                 ...   \n521              True                 False               False   \n522              True                 False               False   \n523              True                 False               False   \n524              True                 False               False   \n525             False                 False               False   \n\n     label_improvement label_potential  label_any_activity  \\\n0                False               1                True   \n1                False               1                True   \n2                False               2                True   \n3                 True               2                True   \n4                 True               2                True   \n..                 ...             ...                 ...   \n521               True               2                True   \n522               True               2                True   \n523              False               0                True   \n524              False               1                True   \n525              False               0               False   \n\n     label_has_potential                                     id  \n0                   True                                  16852  \n1                   True                                  25188  \n2                   True                                  55121  \n3                   True                                  56276  \n4                   True                                  56276  \n..                   ...                                    ...  \n521                 True                         whirligig-star  \n522                 True                         whirligig-star  \n523                False  why-not-develop-a-pelletizing-machine  \n524                 True                       wooden-framework  \n525                False                writing-grant-proposals  \n\n[526 rows x 12 columns]",
      "text/html": "<div>\n<style scoped>\n    .dataframe tbody tr th:only-of-type {\n        vertical-align: middle;\n    }\n\n    .dataframe tbody tr th {\n        vertical-align: top;\n    }\n\n    .dataframe thead th {\n        text-align: right;\n    }\n</style>\n<table border=\"1\" class=\"dataframe\">\n  <thead>\n    <tr style=\"text-align: right;\">\n      <th></th>\n      <th>labeller</th>\n      <th>community_name</th>\n      <th>url</th>\n      <th>label_idea</th>\n      <th>label_evaluation</th>\n      <th>label_implementation</th>\n      <th>label_modification</th>\n      <th>label_improvement</th>\n      <th>label_potential</th>\n      <th>label_any_activity</th>\n      <th>label_has_potential</th>\n      <th>id</th>\n    </tr>\n  </thead>\n  <tbody>\n    <tr>\n      <th>0</th>\n      <td>petrol39blackberry0</td>\n      <td>OpenStreetMap</td>\n      <td>https://forum.openstreetmap.org/viewtopic.php?...</td>\n      <td>True</td>\n      <td>True</td>\n      <td>False</td>\n      <td>False</td>\n      <td>False</td>\n      <td>1</td>\n      <td>True</td>\n      <td>True</td>\n      <td>16852</td>\n    </tr>\n    <tr>\n      <th>1</th>\n      <td>xwegner_lgh@outlook.de</td>\n      <td>OpenStreetMap</td>\n      <td>https://forum.openstreetmap.org/viewtopic.php?...</td>\n      <td>True</td>\n      <td>True</td>\n      <td>False</td>\n      <td>True</td>\n      <td>False</td>\n      <td>1</td>\n      <td>True</td>\n      <td>True</td>\n      <td>25188</td>\n    </tr>\n    <tr>\n      <th>2</th>\n      <td>anna+philipp</td>\n      <td>OpenStreetMap</td>\n      <td>https://forum.openstreetmap.org/viewtopic.php?...</td>\n      <td>True</td>\n      <td>True</td>\n      <td>False</td>\n      <td>False</td>\n      <td>False</td>\n      <td>2</td>\n      <td>True</td>\n      <td>True</td>\n      <td>55121</td>\n    </tr>\n    <tr>\n      <th>3</th>\n      <td>anna+philipp</td>\n      <td>OpenStreetMap</td>\n      <td>https://forum.openstreetmap.org/viewtopic.php?...</td>\n      <td>True</td>\n      <td>True</td>\n      <td>False</td>\n      <td>True</td>\n      <td>True</td>\n      <td>2</td>\n      <td>True</td>\n      <td>True</td>\n      <td>56276</td>\n    </tr>\n    <tr>\n      <th>4</th>\n      <td>Jan-Philipp (JP)</td>\n      <td>OpenStreetMap</td>\n      <td>https://forum.openstreetmap.org/viewtopic.php?...</td>\n      <td>True</td>\n      <td>True</td>\n      <td>False</td>\n      <td>False</td>\n      <td>True</td>\n      <td>2</td>\n      <td>True</td>\n      <td>True</td>\n      <td>56276</td>\n    </tr>\n    <tr>\n      <th>...</th>\n      <td>...</td>\n      <td>...</td>\n      <td>...</td>\n      <td>...</td>\n      <td>...</td>\n      <td>...</td>\n      <td>...</td>\n      <td>...</td>\n      <td>...</td>\n      <td>...</td>\n      <td>...</td>\n      <td>...</td>\n    </tr>\n    <tr>\n      <th>521</th>\n      <td>Jan-Philipp (JP)</td>\n      <td>PreciousPlastic</td>\n      <td>https://davehakkens.nl/community/forums/topic/...</td>\n      <td>True</td>\n      <td>True</td>\n      <td>False</td>\n      <td>False</td>\n      <td>True</td>\n      <td>2</td>\n      <td>True</td>\n      <td>True</td>\n      <td>whirligig-star</td>\n    </tr>\n    <tr>\n      <th>522</th>\n      <td>Jan P.</td>\n      <td>PreciousPlastic</td>\n      <td>https://davehakkens.nl/community/forums/topic/...</td>\n      <td>True</td>\n      <td>True</td>\n      <td>False</td>\n      <td>False</td>\n      <td>True</td>\n      <td>2</td>\n      <td>True</td>\n      <td>True</td>\n      <td>whirligig-star</td>\n    </tr>\n    <tr>\n      <th>523</th>\n      <td>Larilu</td>\n      <td>PreciousPlastic</td>\n      <td>https://davehakkens.nl/community/forums/topic/...</td>\n      <td>True</td>\n      <td>True</td>\n      <td>False</td>\n      <td>False</td>\n      <td>False</td>\n      <td>0</td>\n      <td>True</td>\n      <td>False</td>\n      <td>why-not-develop-a-pelletizing-machine</td>\n    </tr>\n    <tr>\n      <th>524</th>\n      <td>Larilu</td>\n      <td>PreciousPlastic</td>\n      <td>https://davehakkens.nl/community/forums/topic/...</td>\n      <td>True</td>\n      <td>True</td>\n      <td>False</td>\n      <td>False</td>\n      <td>False</td>\n      <td>1</td>\n      <td>True</td>\n      <td>True</td>\n      <td>wooden-framework</td>\n    </tr>\n    <tr>\n      <th>525</th>\n      <td>Larilu</td>\n      <td>PreciousPlastic</td>\n      <td>https://davehakkens.nl/community/forums/topic/...</td>\n      <td>False</td>\n      <td>False</td>\n      <td>False</td>\n      <td>False</td>\n      <td>False</td>\n      <td>0</td>\n      <td>False</td>\n      <td>False</td>\n      <td>writing-grant-proposals</td>\n    </tr>\n  </tbody>\n</table>\n<p>526 rows × 12 columns</p>\n</div>"
     },
     "execution_count": 5,
     "metadata": {},
     "output_type": "execute_result"
    }
   ],
   "source": [
    "Y"
   ],
   "metadata": {
    "collapsed": false,
    "pycharm": {
     "name": "#%%\n"
    }
   }
  },
  {
   "cell_type": "code",
   "execution_count": 7,
   "outputs": [
    {
     "ename": "ValueError",
     "evalue": "y should be a 1d array, got an array of shape (526, 2) instead.",
     "output_type": "error",
     "traceback": [
      "\u001B[1;31m---------------------------------------------------------------------------\u001B[0m",
      "\u001B[1;31mValueError\u001B[0m                                Traceback (most recent call last)",
      "Input \u001B[1;32mIn [7]\u001B[0m, in \u001B[0;36m<cell line: 2>\u001B[1;34m()\u001B[0m\n\u001B[0;32m      1\u001B[0m y \u001B[38;5;241m=\u001B[39m Y[[\u001B[38;5;124m'\u001B[39m\u001B[38;5;124mlabel_has_potential\u001B[39m\u001B[38;5;124m'\u001B[39m, \u001B[38;5;124m'\u001B[39m\u001B[38;5;124mlabel_any_activity\u001B[39m\u001B[38;5;124m'\u001B[39m]] \n\u001B[1;32m----> 2\u001B[0m \u001B[43mPici\u001B[49m\u001B[38;5;241;43m.\u001B[39;49m\u001B[43mselect_features\u001B[49m\u001B[43m(\u001B[49m\u001B[38;5;28;43;01mNone\u001B[39;49;00m\u001B[43m,\u001B[49m\u001B[43m \u001B[49m\u001B[43mX\u001B[49m\u001B[43m,\u001B[49m\u001B[43my\u001B[49m\u001B[43m)\u001B[49m\n",
      "File \u001B[1;32mG:\\Meine Ablage\\TU3\\projects\\peerinnovation\\toolbox\\pici\\pici\\pici.py:180\u001B[0m, in \u001B[0;36mPici.select_features\u001B[1;34m(self, X, y, method)\u001B[0m\n\u001B[0;32m    171\u001B[0m rf \u001B[38;5;241m=\u001B[39m OneVsRestClassifier(\n\u001B[0;32m    172\u001B[0m     RandomForestClassifier(n_jobs\u001B[38;5;241m=\u001B[39m\u001B[38;5;241m-\u001B[39m\u001B[38;5;241m1\u001B[39m,\n\u001B[0;32m    173\u001B[0m                                  class_weight\u001B[38;5;241m=\u001B[39m\u001B[38;5;124m'\u001B[39m\u001B[38;5;124mbalanced\u001B[39m\u001B[38;5;124m'\u001B[39m,\n\u001B[0;32m    174\u001B[0m                             max_depth\u001B[38;5;241m=\u001B[39m\u001B[38;5;241m5\u001B[39m)\n\u001B[0;32m    175\u001B[0m )\n\u001B[0;32m    177\u001B[0m feat_selector \u001B[38;5;241m=\u001B[39m BorutaPy(rf, n_estimators\u001B[38;5;241m=\u001B[39m\u001B[38;5;124m'\u001B[39m\u001B[38;5;124mauto\u001B[39m\u001B[38;5;124m'\u001B[39m, verbose\u001B[38;5;241m=\u001B[39m\u001B[38;5;241m0\u001B[39m,\n\u001B[0;32m    178\u001B[0m                          random_state\u001B[38;5;241m=\u001B[39m\u001B[38;5;241m1\u001B[39m)\n\u001B[1;32m--> 180\u001B[0m \u001B[43mfeat_selector\u001B[49m\u001B[38;5;241;43m.\u001B[39;49m\u001B[43mfit\u001B[49m\u001B[43m(\u001B[49m\u001B[43mX_arr\u001B[49m\u001B[43m,\u001B[49m\u001B[43m \u001B[49m\u001B[43my_arr\u001B[49m\u001B[43m)\u001B[49m\n\u001B[0;32m    182\u001B[0m confirmed \u001B[38;5;241m=\u001B[39m \u001B[38;5;28mset\u001B[39m(X\u001B[38;5;241m.\u001B[39mcolumns[feat_selector\u001B[38;5;241m.\u001B[39msupport_])\n\u001B[0;32m    183\u001B[0m rejected \u001B[38;5;241m=\u001B[39m \u001B[38;5;28mset\u001B[39m(X\u001B[38;5;241m.\u001B[39mcolumns) \u001B[38;5;241m-\u001B[39m \u001B[38;5;28mset\u001B[39m(X\u001B[38;5;241m.\u001B[39mcolumns[feat_selector\u001B[38;5;241m.\u001B[39msupport_])\n",
      "File \u001B[1;32m~\\anaconda3\\envs\\pici\\lib\\site-packages\\boruta\\boruta_py.py:201\u001B[0m, in \u001B[0;36mBorutaPy.fit\u001B[1;34m(self, X, y)\u001B[0m\n\u001B[0;32m    188\u001B[0m \u001B[38;5;28;01mdef\u001B[39;00m \u001B[38;5;21mfit\u001B[39m(\u001B[38;5;28mself\u001B[39m, X, y):\n\u001B[0;32m    189\u001B[0m     \u001B[38;5;124;03m\"\"\"\u001B[39;00m\n\u001B[0;32m    190\u001B[0m \u001B[38;5;124;03m    Fits the Boruta feature selection with the provided estimator.\u001B[39;00m\n\u001B[0;32m    191\u001B[0m \n\u001B[1;32m   (...)\u001B[0m\n\u001B[0;32m    198\u001B[0m \u001B[38;5;124;03m        The target values.\u001B[39;00m\n\u001B[0;32m    199\u001B[0m \u001B[38;5;124;03m    \"\"\"\u001B[39;00m\n\u001B[1;32m--> 201\u001B[0m     \u001B[38;5;28;01mreturn\u001B[39;00m \u001B[38;5;28;43mself\u001B[39;49m\u001B[38;5;241;43m.\u001B[39;49m\u001B[43m_fit\u001B[49m\u001B[43m(\u001B[49m\u001B[43mX\u001B[49m\u001B[43m,\u001B[49m\u001B[43m \u001B[49m\u001B[43my\u001B[49m\u001B[43m)\u001B[49m\n",
      "File \u001B[1;32m~\\anaconda3\\envs\\pici\\lib\\site-packages\\boruta\\boruta_py.py:251\u001B[0m, in \u001B[0;36mBorutaPy._fit\u001B[1;34m(self, X, y)\u001B[0m\n\u001B[0;32m    249\u001B[0m \u001B[38;5;28;01mdef\u001B[39;00m \u001B[38;5;21m_fit\u001B[39m(\u001B[38;5;28mself\u001B[39m, X, y):\n\u001B[0;32m    250\u001B[0m     \u001B[38;5;66;03m# check input params\u001B[39;00m\n\u001B[1;32m--> 251\u001B[0m     \u001B[38;5;28;43mself\u001B[39;49m\u001B[38;5;241;43m.\u001B[39;49m\u001B[43m_check_params\u001B[49m\u001B[43m(\u001B[49m\u001B[43mX\u001B[49m\u001B[43m,\u001B[49m\u001B[43m \u001B[49m\u001B[43my\u001B[49m\u001B[43m)\u001B[49m\n\u001B[0;32m    252\u001B[0m     \u001B[38;5;28mself\u001B[39m\u001B[38;5;241m.\u001B[39mrandom_state \u001B[38;5;241m=\u001B[39m check_random_state(\u001B[38;5;28mself\u001B[39m\u001B[38;5;241m.\u001B[39mrandom_state)\n\u001B[0;32m    253\u001B[0m     \u001B[38;5;66;03m# setup variables for Boruta\u001B[39;00m\n",
      "File \u001B[1;32m~\\anaconda3\\envs\\pici\\lib\\site-packages\\boruta\\boruta_py.py:517\u001B[0m, in \u001B[0;36mBorutaPy._check_params\u001B[1;34m(self, X, y)\u001B[0m\n\u001B[0;32m    513\u001B[0m \u001B[38;5;124;03m\"\"\"\u001B[39;00m\n\u001B[0;32m    514\u001B[0m \u001B[38;5;124;03mCheck hyperparameters as well as X and y before proceeding with fit.\u001B[39;00m\n\u001B[0;32m    515\u001B[0m \u001B[38;5;124;03m\"\"\"\u001B[39;00m\n\u001B[0;32m    516\u001B[0m \u001B[38;5;66;03m# check X and y are consistent len, X is Array and y is column\u001B[39;00m\n\u001B[1;32m--> 517\u001B[0m X, y \u001B[38;5;241m=\u001B[39m \u001B[43mcheck_X_y\u001B[49m\u001B[43m(\u001B[49m\u001B[43mX\u001B[49m\u001B[43m,\u001B[49m\u001B[43m \u001B[49m\u001B[43my\u001B[49m\u001B[43m)\u001B[49m\n\u001B[0;32m    518\u001B[0m \u001B[38;5;28;01mif\u001B[39;00m \u001B[38;5;28mself\u001B[39m\u001B[38;5;241m.\u001B[39mperc \u001B[38;5;241m<\u001B[39m\u001B[38;5;241m=\u001B[39m \u001B[38;5;241m0\u001B[39m \u001B[38;5;129;01mor\u001B[39;00m \u001B[38;5;28mself\u001B[39m\u001B[38;5;241m.\u001B[39mperc \u001B[38;5;241m>\u001B[39m \u001B[38;5;241m100\u001B[39m:\n\u001B[0;32m    519\u001B[0m     \u001B[38;5;28;01mraise\u001B[39;00m \u001B[38;5;167;01mValueError\u001B[39;00m(\u001B[38;5;124m'\u001B[39m\u001B[38;5;124mThe percentile should be between 0 and 100.\u001B[39m\u001B[38;5;124m'\u001B[39m)\n",
      "File \u001B[1;32m~\\anaconda3\\envs\\pici\\lib\\site-packages\\sklearn\\utils\\validation.py:979\u001B[0m, in \u001B[0;36mcheck_X_y\u001B[1;34m(X, y, accept_sparse, accept_large_sparse, dtype, order, copy, force_all_finite, ensure_2d, allow_nd, multi_output, ensure_min_samples, ensure_min_features, y_numeric, estimator)\u001B[0m\n\u001B[0;32m    962\u001B[0m     \u001B[38;5;28;01mraise\u001B[39;00m \u001B[38;5;167;01mValueError\u001B[39;00m(\u001B[38;5;124m\"\u001B[39m\u001B[38;5;124my cannot be None\u001B[39m\u001B[38;5;124m\"\u001B[39m)\n\u001B[0;32m    964\u001B[0m X \u001B[38;5;241m=\u001B[39m check_array(\n\u001B[0;32m    965\u001B[0m     X,\n\u001B[0;32m    966\u001B[0m     accept_sparse\u001B[38;5;241m=\u001B[39maccept_sparse,\n\u001B[1;32m   (...)\u001B[0m\n\u001B[0;32m    976\u001B[0m     estimator\u001B[38;5;241m=\u001B[39mestimator,\n\u001B[0;32m    977\u001B[0m )\n\u001B[1;32m--> 979\u001B[0m y \u001B[38;5;241m=\u001B[39m \u001B[43m_check_y\u001B[49m\u001B[43m(\u001B[49m\u001B[43my\u001B[49m\u001B[43m,\u001B[49m\u001B[43m \u001B[49m\u001B[43mmulti_output\u001B[49m\u001B[38;5;241;43m=\u001B[39;49m\u001B[43mmulti_output\u001B[49m\u001B[43m,\u001B[49m\u001B[43m \u001B[49m\u001B[43my_numeric\u001B[49m\u001B[38;5;241;43m=\u001B[39;49m\u001B[43my_numeric\u001B[49m\u001B[43m)\u001B[49m\n\u001B[0;32m    981\u001B[0m check_consistent_length(X, y)\n\u001B[0;32m    983\u001B[0m \u001B[38;5;28;01mreturn\u001B[39;00m X, y\n",
      "File \u001B[1;32m~\\anaconda3\\envs\\pici\\lib\\site-packages\\sklearn\\utils\\validation.py:993\u001B[0m, in \u001B[0;36m_check_y\u001B[1;34m(y, multi_output, y_numeric)\u001B[0m\n\u001B[0;32m    989\u001B[0m     y \u001B[38;5;241m=\u001B[39m check_array(\n\u001B[0;32m    990\u001B[0m         y, accept_sparse\u001B[38;5;241m=\u001B[39m\u001B[38;5;124m\"\u001B[39m\u001B[38;5;124mcsr\u001B[39m\u001B[38;5;124m\"\u001B[39m, force_all_finite\u001B[38;5;241m=\u001B[39m\u001B[38;5;28;01mTrue\u001B[39;00m, ensure_2d\u001B[38;5;241m=\u001B[39m\u001B[38;5;28;01mFalse\u001B[39;00m, dtype\u001B[38;5;241m=\u001B[39m\u001B[38;5;28;01mNone\u001B[39;00m\n\u001B[0;32m    991\u001B[0m     )\n\u001B[0;32m    992\u001B[0m \u001B[38;5;28;01melse\u001B[39;00m:\n\u001B[1;32m--> 993\u001B[0m     y \u001B[38;5;241m=\u001B[39m \u001B[43mcolumn_or_1d\u001B[49m\u001B[43m(\u001B[49m\u001B[43my\u001B[49m\u001B[43m,\u001B[49m\u001B[43m \u001B[49m\u001B[43mwarn\u001B[49m\u001B[38;5;241;43m=\u001B[39;49m\u001B[38;5;28;43;01mTrue\u001B[39;49;00m\u001B[43m)\u001B[49m\n\u001B[0;32m    994\u001B[0m     _assert_all_finite(y)\n\u001B[0;32m    995\u001B[0m     _ensure_no_complex_data(y)\n",
      "File \u001B[1;32m~\\anaconda3\\envs\\pici\\lib\\site-packages\\sklearn\\utils\\validation.py:1038\u001B[0m, in \u001B[0;36mcolumn_or_1d\u001B[1;34m(y, warn)\u001B[0m\n\u001B[0;32m   1029\u001B[0m         warnings\u001B[38;5;241m.\u001B[39mwarn(\n\u001B[0;32m   1030\u001B[0m             \u001B[38;5;124m\"\u001B[39m\u001B[38;5;124mA column-vector y was passed when a 1d array was\u001B[39m\u001B[38;5;124m\"\u001B[39m\n\u001B[0;32m   1031\u001B[0m             \u001B[38;5;124m\"\u001B[39m\u001B[38;5;124m expected. Please change the shape of y to \u001B[39m\u001B[38;5;124m\"\u001B[39m\n\u001B[1;32m   (...)\u001B[0m\n\u001B[0;32m   1034\u001B[0m             stacklevel\u001B[38;5;241m=\u001B[39m\u001B[38;5;241m2\u001B[39m,\n\u001B[0;32m   1035\u001B[0m         )\n\u001B[0;32m   1036\u001B[0m     \u001B[38;5;28;01mreturn\u001B[39;00m np\u001B[38;5;241m.\u001B[39mravel(y)\n\u001B[1;32m-> 1038\u001B[0m \u001B[38;5;28;01mraise\u001B[39;00m \u001B[38;5;167;01mValueError\u001B[39;00m(\n\u001B[0;32m   1039\u001B[0m     \u001B[38;5;124m\"\u001B[39m\u001B[38;5;124my should be a 1d array, got an array of shape \u001B[39m\u001B[38;5;132;01m{}\u001B[39;00m\u001B[38;5;124m instead.\u001B[39m\u001B[38;5;124m\"\u001B[39m\u001B[38;5;241m.\u001B[39mformat(shape)\n\u001B[0;32m   1040\u001B[0m )\n",
      "\u001B[1;31mValueError\u001B[0m: y should be a 1d array, got an array of shape (526, 2) instead."
     ]
    }
   ],
   "source": [
    "# multi-label classification!?\n",
    "y = Y[['label_has_potential', 'label_any_activity']]\n",
    "Pici.select_features(None, X,y)"
   ],
   "metadata": {
    "collapsed": false,
    "pycharm": {
     "name": "#%%\n"
    }
   }
  },
  {
   "cell_type": "markdown",
   "source": [
    "<https://www.kaggle.com/code/residentmario/notes-on-multiclass-and-multitask-schemes/notebook>"
   ],
   "metadata": {
    "collapsed": false,
    "pycharm": {
     "name": "#%% md\n"
    }
   }
  },
  {
   "cell_type": "markdown",
   "source": [
    "multi-label to multi-class? <https://doi.org/10.3390/e18080282>"
   ],
   "metadata": {
    "collapsed": false,
    "pycharm": {
     "name": "#%% md\n"
    }
   }
  },
  {
   "cell_type": "markdown",
   "source": [
    "<http://scikit.ml/api/skmultilearn.problem_transform.lp.html>"
   ],
   "metadata": {
    "collapsed": false,
    "pycharm": {
     "name": "#%% md\n"
    }
   }
  },
  {
   "cell_type": "code",
   "execution_count": null,
   "outputs": [],
   "source": [],
   "metadata": {
    "collapsed": false,
    "pycharm": {
     "name": "#%%\n"
    }
   }
  }
 ],
 "metadata": {
  "kernelspec": {
   "display_name": "Python 3",
   "language": "python",
   "name": "python3"
  },
  "language_info": {
   "codemirror_mode": {
    "name": "ipython",
    "version": 2
   },
   "file_extension": ".py",
   "mimetype": "text/x-python",
   "name": "python",
   "nbconvert_exporter": "python",
   "pygments_lexer": "ipython2",
   "version": "2.7.6"
  }
 },
 "nbformat": 4,
 "nbformat_minor": 0
}