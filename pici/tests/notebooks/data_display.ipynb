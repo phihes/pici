{
 "cells": [
  {
   "cell_type": "code",
   "execution_count": 2,
   "outputs": [
    {
     "name": "stdout",
     "output_type": "stream",
     "text": [
      "Note: to be able to use all crisp methods, you need to install some additional packages:  {'graph_tool', 'karateclub', 'wurlitzer', 'infomap'}\n",
      "Note: to be able to use all overlapping methods, you need to install some additional packages:  {'ASLPAw', 'karateclub'}\n",
      "Note: to be able to use all bipartite methods, you need to install some additional packages:  {'wurlitzer', 'infomap'}\n"
     ]
    }
   ],
   "source": [
    "from pici.pici import Pici\n",
    "import pandas as pd"
   ],
   "metadata": {
    "collapsed": false,
    "pycharm": {
     "name": "#%%\n"
    }
   }
  },
  {
   "cell_type": "code",
   "execution_count": 3,
   "outputs": [],
   "source": [
    "pici = Pici(\n",
    "    cache_dir='../../../cache',\n",
    "    start='2017-01-01',\n",
    "    end='2019-01-01',\n",
    "    cache_nrows=500\n",
    ")"
   ],
   "metadata": {
    "collapsed": false,
    "pycharm": {
     "name": "#%%\n"
    }
   }
  },
  {
   "cell_type": "code",
   "execution_count": 5,
   "outputs": [
    {
     "data": {
      "text/plain": "     Unnamed: 0                                             topic  \\\n21           21                   potclau-a-new-product-to-inject   \n22           22                   potclau-a-new-product-to-inject   \n23           23                   potclau-a-new-product-to-inject   \n24           24                   potclau-a-new-product-to-inject   \n25           25                   potclau-a-new-product-to-inject   \n..          ...                                               ...   \n364         364  heatable-mold-for-bioplastic-edible-materials-v4   \n365         365  heatable-mold-for-bioplastic-edible-materials-v4   \n366         366  heatable-mold-for-bioplastic-edible-materials-v4   \n367         367  heatable-mold-for-bioplastic-edible-materials-v4   \n368         368  heatable-mold-for-bioplastic-edible-materials-v4   \n\n             author                date  likes  \\\n21        grisworks 2017-09-03 23:04:00      0   \n22   talleresferica 2017-03-15 15:20:00      0   \n23        geoeraala 2017-04-18 17:03:00      0   \n24            sneyk 2017-12-06 18:36:00      0   \n25            becka 2017-06-16 19:59:00      0   \n..              ...                 ...    ...   \n364       dasjannis 2018-11-27 13:09:00      1   \n365           andyn 2018-11-27 13:36:00      1   \n366       dasjannis 2018-11-27 13:43:00      1   \n367           andyn 2018-11-27 13:49:00      1   \n368       dasjannis 2018-11-27 14:45:00      1   \n\n                                                  text  \n21   \\nHello everyone! \\nFrom Taller Esfèrica we wa...  \n22   \\nHello everyone! \\nFrom Taller Esfèrica we wa...  \n23   \\nHello everyone! \\nFrom Taller Esfèrica we wa...  \n24   \\nHello everyone! \\nFrom Taller Esfèrica we wa...  \n25   \\nHello everyone! \\nFrom Taller Esfèrica we wa...  \n..                                                 ...  \n364  \\nHey everyone!\\nSince we are working on biode...  \n365  \\nHey everyone!\\nSince we are working on biode...  \n366  \\nHey everyone!\\nSince we are working on biode...  \n367  \\nHey everyone!\\nSince we are working on biode...  \n368  \\nHey everyone!\\nSince we are working on biode...  \n\n[91 rows x 6 columns]",
      "text/html": "<div>\n<style scoped>\n    .dataframe tbody tr th:only-of-type {\n        vertical-align: middle;\n    }\n\n    .dataframe tbody tr th {\n        vertical-align: top;\n    }\n\n    .dataframe thead th {\n        text-align: right;\n    }\n</style>\n<table border=\"1\" class=\"dataframe\">\n  <thead>\n    <tr style=\"text-align: right;\">\n      <th></th>\n      <th>Unnamed: 0</th>\n      <th>topic</th>\n      <th>author</th>\n      <th>date</th>\n      <th>likes</th>\n      <th>text</th>\n    </tr>\n  </thead>\n  <tbody>\n    <tr>\n      <th>21</th>\n      <td>21</td>\n      <td>potclau-a-new-product-to-inject</td>\n      <td>grisworks</td>\n      <td>2017-09-03 23:04:00</td>\n      <td>0</td>\n      <td>\\nHello everyone! \\nFrom Taller Esfèrica we wa...</td>\n    </tr>\n    <tr>\n      <th>22</th>\n      <td>22</td>\n      <td>potclau-a-new-product-to-inject</td>\n      <td>talleresferica</td>\n      <td>2017-03-15 15:20:00</td>\n      <td>0</td>\n      <td>\\nHello everyone! \\nFrom Taller Esfèrica we wa...</td>\n    </tr>\n    <tr>\n      <th>23</th>\n      <td>23</td>\n      <td>potclau-a-new-product-to-inject</td>\n      <td>geoeraala</td>\n      <td>2017-04-18 17:03:00</td>\n      <td>0</td>\n      <td>\\nHello everyone! \\nFrom Taller Esfèrica we wa...</td>\n    </tr>\n    <tr>\n      <th>24</th>\n      <td>24</td>\n      <td>potclau-a-new-product-to-inject</td>\n      <td>sneyk</td>\n      <td>2017-12-06 18:36:00</td>\n      <td>0</td>\n      <td>\\nHello everyone! \\nFrom Taller Esfèrica we wa...</td>\n    </tr>\n    <tr>\n      <th>25</th>\n      <td>25</td>\n      <td>potclau-a-new-product-to-inject</td>\n      <td>becka</td>\n      <td>2017-06-16 19:59:00</td>\n      <td>0</td>\n      <td>\\nHello everyone! \\nFrom Taller Esfèrica we wa...</td>\n    </tr>\n    <tr>\n      <th>...</th>\n      <td>...</td>\n      <td>...</td>\n      <td>...</td>\n      <td>...</td>\n      <td>...</td>\n      <td>...</td>\n    </tr>\n    <tr>\n      <th>364</th>\n      <td>364</td>\n      <td>heatable-mold-for-bioplastic-edible-materials-v4</td>\n      <td>dasjannis</td>\n      <td>2018-11-27 13:09:00</td>\n      <td>1</td>\n      <td>\\nHey everyone!\\nSince we are working on biode...</td>\n    </tr>\n    <tr>\n      <th>365</th>\n      <td>365</td>\n      <td>heatable-mold-for-bioplastic-edible-materials-v4</td>\n      <td>andyn</td>\n      <td>2018-11-27 13:36:00</td>\n      <td>1</td>\n      <td>\\nHey everyone!\\nSince we are working on biode...</td>\n    </tr>\n    <tr>\n      <th>366</th>\n      <td>366</td>\n      <td>heatable-mold-for-bioplastic-edible-materials-v4</td>\n      <td>dasjannis</td>\n      <td>2018-11-27 13:43:00</td>\n      <td>1</td>\n      <td>\\nHey everyone!\\nSince we are working on biode...</td>\n    </tr>\n    <tr>\n      <th>367</th>\n      <td>367</td>\n      <td>heatable-mold-for-bioplastic-edible-materials-v4</td>\n      <td>andyn</td>\n      <td>2018-11-27 13:49:00</td>\n      <td>1</td>\n      <td>\\nHey everyone!\\nSince we are working on biode...</td>\n    </tr>\n    <tr>\n      <th>368</th>\n      <td>368</td>\n      <td>heatable-mold-for-bioplastic-edible-materials-v4</td>\n      <td>dasjannis</td>\n      <td>2018-11-27 14:45:00</td>\n      <td>1</td>\n      <td>\\nHey everyone!\\nSince we are working on biode...</td>\n    </tr>\n  </tbody>\n</table>\n<p>91 rows × 6 columns</p>\n</div>"
     },
     "execution_count": 5,
     "metadata": {},
     "output_type": "execute_result"
    }
   ],
   "source": [
    "pici.communities['PreciousPlastic'].posts"
   ],
   "metadata": {
    "collapsed": false,
    "pycharm": {
     "name": "#%%\n"
    }
   }
  },
  {
   "cell_type": "code",
   "execution_count": 9,
   "outputs": [],
   "source": [
    "p = pici.communities['PreciousPlastic'].posts.sort_values(by=['date'])\n",
    "p['position_in_topic'] = p.groupby('topic').cumcount()+1"
   ],
   "metadata": {
    "collapsed": false,
    "pycharm": {
     "name": "#%%\n"
    }
   }
  },
  {
   "cell_type": "code",
   "execution_count": 10,
   "outputs": [
    {
     "data": {
      "text/plain": "     Unnamed: 0                                             topic  \\\n177         177     problems-with-the-precious-plastic-kit-master   \n328         328        the-quest-for-the-ultimate-extrusion-screw   \n329         329        the-quest-for-the-ultimate-extrusion-screw   \n330         330        the-quest-for-the-ultimate-extrusion-screw   \n331         331        the-quest-for-the-ultimate-extrusion-screw   \n..          ...                                               ...   \n364         364  heatable-mold-for-bioplastic-edible-materials-v4   \n365         365  heatable-mold-for-bioplastic-edible-materials-v4   \n366         366  heatable-mold-for-bioplastic-edible-materials-v4   \n367         367  heatable-mold-for-bioplastic-edible-materials-v4   \n368         368  heatable-mold-for-bioplastic-edible-materials-v4   \n\n              author                date  likes  \\\n177  basictheprogram 2017-01-10 19:37:00      1   \n328          siemenc 2017-02-03 14:58:00      1   \n329      dustintweir 2017-02-03 15:38:00      1   \n330      davehakkens 2017-02-03 16:02:00      2   \n331          siemenc 2017-02-03 18:53:00      1   \n..               ...                 ...    ...   \n364        dasjannis 2018-11-27 13:09:00      1   \n365            andyn 2018-11-27 13:36:00      1   \n366        dasjannis 2018-11-27 13:43:00      1   \n367            andyn 2018-11-27 13:49:00      1   \n368        dasjannis 2018-11-27 14:45:00      1   \n\n                                                  text  position_in_topic  \n177  \\nHello everyone!\\nI have downloaded the “Prec...                  1  \n328  \\nIn the plans of the current extrusion machin...                  1  \n329  \\nIn the plans of the current extrusion machin...                  2  \n330  \\nIn the plans of the current extrusion machin...                  3  \n331  \\nIn the plans of the current extrusion machin...                  4  \n..                                                 ...                ...  \n364  \\nHey everyone!\\nSince we are working on biode...                  6  \n365  \\nHey everyone!\\nSince we are working on biode...                  7  \n366  \\nHey everyone!\\nSince we are working on biode...                  8  \n367  \\nHey everyone!\\nSince we are working on biode...                  9  \n368  \\nHey everyone!\\nSince we are working on biode...                 10  \n\n[91 rows x 7 columns]",
      "text/html": "<div>\n<style scoped>\n    .dataframe tbody tr th:only-of-type {\n        vertical-align: middle;\n    }\n\n    .dataframe tbody tr th {\n        vertical-align: top;\n    }\n\n    .dataframe thead th {\n        text-align: right;\n    }\n</style>\n<table border=\"1\" class=\"dataframe\">\n  <thead>\n    <tr style=\"text-align: right;\">\n      <th></th>\n      <th>Unnamed: 0</th>\n      <th>topic</th>\n      <th>author</th>\n      <th>date</th>\n      <th>likes</th>\n      <th>text</th>\n      <th>position_in_topic</th>\n    </tr>\n  </thead>\n  <tbody>\n    <tr>\n      <th>177</th>\n      <td>177</td>\n      <td>problems-with-the-precious-plastic-kit-master</td>\n      <td>basictheprogram</td>\n      <td>2017-01-10 19:37:00</td>\n      <td>1</td>\n      <td>\\nHello everyone!\\nI have downloaded the “Prec...</td>\n      <td>1</td>\n    </tr>\n    <tr>\n      <th>328</th>\n      <td>328</td>\n      <td>the-quest-for-the-ultimate-extrusion-screw</td>\n      <td>siemenc</td>\n      <td>2017-02-03 14:58:00</td>\n      <td>1</td>\n      <td>\\nIn the plans of the current extrusion machin...</td>\n      <td>1</td>\n    </tr>\n    <tr>\n      <th>329</th>\n      <td>329</td>\n      <td>the-quest-for-the-ultimate-extrusion-screw</td>\n      <td>dustintweir</td>\n      <td>2017-02-03 15:38:00</td>\n      <td>1</td>\n      <td>\\nIn the plans of the current extrusion machin...</td>\n      <td>2</td>\n    </tr>\n    <tr>\n      <th>330</th>\n      <td>330</td>\n      <td>the-quest-for-the-ultimate-extrusion-screw</td>\n      <td>davehakkens</td>\n      <td>2017-02-03 16:02:00</td>\n      <td>2</td>\n      <td>\\nIn the plans of the current extrusion machin...</td>\n      <td>3</td>\n    </tr>\n    <tr>\n      <th>331</th>\n      <td>331</td>\n      <td>the-quest-for-the-ultimate-extrusion-screw</td>\n      <td>siemenc</td>\n      <td>2017-02-03 18:53:00</td>\n      <td>1</td>\n      <td>\\nIn the plans of the current extrusion machin...</td>\n      <td>4</td>\n    </tr>\n    <tr>\n      <th>...</th>\n      <td>...</td>\n      <td>...</td>\n      <td>...</td>\n      <td>...</td>\n      <td>...</td>\n      <td>...</td>\n      <td>...</td>\n    </tr>\n    <tr>\n      <th>364</th>\n      <td>364</td>\n      <td>heatable-mold-for-bioplastic-edible-materials-v4</td>\n      <td>dasjannis</td>\n      <td>2018-11-27 13:09:00</td>\n      <td>1</td>\n      <td>\\nHey everyone!\\nSince we are working on biode...</td>\n      <td>6</td>\n    </tr>\n    <tr>\n      <th>365</th>\n      <td>365</td>\n      <td>heatable-mold-for-bioplastic-edible-materials-v4</td>\n      <td>andyn</td>\n      <td>2018-11-27 13:36:00</td>\n      <td>1</td>\n      <td>\\nHey everyone!\\nSince we are working on biode...</td>\n      <td>7</td>\n    </tr>\n    <tr>\n      <th>366</th>\n      <td>366</td>\n      <td>heatable-mold-for-bioplastic-edible-materials-v4</td>\n      <td>dasjannis</td>\n      <td>2018-11-27 13:43:00</td>\n      <td>1</td>\n      <td>\\nHey everyone!\\nSince we are working on biode...</td>\n      <td>8</td>\n    </tr>\n    <tr>\n      <th>367</th>\n      <td>367</td>\n      <td>heatable-mold-for-bioplastic-edible-materials-v4</td>\n      <td>andyn</td>\n      <td>2018-11-27 13:49:00</td>\n      <td>1</td>\n      <td>\\nHey everyone!\\nSince we are working on biode...</td>\n      <td>9</td>\n    </tr>\n    <tr>\n      <th>368</th>\n      <td>368</td>\n      <td>heatable-mold-for-bioplastic-edible-materials-v4</td>\n      <td>dasjannis</td>\n      <td>2018-11-27 14:45:00</td>\n      <td>1</td>\n      <td>\\nHey everyone!\\nSince we are working on biode...</td>\n      <td>10</td>\n    </tr>\n  </tbody>\n</table>\n<p>91 rows × 7 columns</p>\n</div>"
     },
     "execution_count": 10,
     "metadata": {},
     "output_type": "execute_result"
    }
   ],
   "source": [
    "p"
   ],
   "metadata": {
    "collapsed": false,
    "pycharm": {
     "name": "#%%\n"
    }
   }
  },
  {
   "cell_type": "code",
   "execution_count": 13,
   "outputs": [],
   "source": [
    "c = pici.communities['OpenStreetMap']\n",
    "p = c.posts.sort_values(by=[c.date_column])\n",
    "p['position_in_topic'] = p.groupby(c.topic_column).cumcount()+1"
   ],
   "metadata": {
    "collapsed": false,
    "pycharm": {
     "name": "#%%\n"
    }
   }
  },
  {
   "cell_type": "code",
   "execution_count": 14,
   "outputs": [
    {
     "data": {
      "text/plain": "     Unnamed: 0 reply_id           reply_date  reply_number  \\\n305         305  p627952  2017-01-25 00:20:57             1   \n306         306  p627956  2017-01-25 00:40:21             2   \n307         307  p627957  2017-01-25 00:45:06             3   \n308         308  p627980  2017-01-25 08:25:10             4   \n309         309  p628933  2017-01-30 19:43:19             5   \n..          ...      ...                  ...           ...   \n178         178  p731160  2018-12-26 12:56:07             7   \n179         179  p731163  2018-12-26 13:11:18             8   \n180         180  p731164  2018-12-26 13:12:30             9   \n181         181  p731288  2018-12-27 14:10:43            10   \n182         182  p731290  2018-12-27 14:19:32            11   \n\n                                         reply_content     author_name  \\\n305  \\n\\t\\t\\t\\t\\t\\tHow do I filter for railway line...  ethylisocyanat   \n306  \\n\\t\\t\\t\\t\\t\\tIt should be railway=rail instea...   RicoElectrico   \n307  \\n\\t\\t\\t\\t\\t\\tI want to add service=spur to al...  ethylisocyanat   \n308  \\n\\t\\t\\t\\t\\t\\tethylisocyanat wrote:I want to a...          escada   \n309  \\n\\t\\t\\t\\t\\t\\tescada wrote:\"railway=rail\" only...  ethylisocyanat   \n..                                                 ...             ...   \n178  \\n\\t\\t\\t\\t\\t\\tIch verstehe das Problem noch ni...           GerdP   \n179  \\n\\t\\t\\t\\t\\t\\tIch habe jetzt JOSM auf dem Mac ...          felixi   \n180  \\n\\t\\t\\t\\t\\t\\t@felixi all my edits remain visi...            nevw   \n181  \\n\\t\\t\\t\\t\\t\\tNow we will never know what the ...            nevw   \n182  \\n\\t\\t\\t\\t\\t\\tMaybe the wireframe mode was act...           GerdP   \n\n    author_type               author_from author_registered_date  \\\n305      Member                       NaN             2017-01-17   \n306   Moderator                Trójmiasto             2012-07-01   \n307      Member                       NaN             2017-01-17   \n308   Moderator                       NaN             2011-08-13   \n309      Member                       NaN             2017-01-17   \n..          ...                       ...                    ...   \n178      Member                       NaN             2015-12-18   \n179      Member                       NaN             2014-06-08   \n180      Member  SE Queensland, Australia             2013-04-11   \n181      Member  SE Queensland, Australia             2013-04-11   \n182      Member                       NaN             2015-12-18   \n\n               forum_url  ... forum_id  depth  download_timeout  \\\n305  viewforum.php?id=54  ...       54      7               180   \n306  viewforum.php?id=54  ...       54      7               180   \n307  viewforum.php?id=54  ...       54      7               180   \n308  viewforum.php?id=54  ...       54      7               180   \n309  viewforum.php?id=54  ...       54      7               180   \n..                   ...  ...      ...    ...               ...   \n178  viewforum.php?id=54  ...       54      6               180   \n179  viewforum.php?id=54  ...       54      6               180   \n180  viewforum.php?id=54  ...       54      6               180   \n181  viewforum.php?id=54  ...       54      6               180   \n182  viewforum.php?id=54  ...       54      6               180   \n\n               download_slot download_latency  \\\n305  forum.openstreetmap.org         0.046316   \n306  forum.openstreetmap.org         0.046316   \n307  forum.openstreetmap.org         0.046316   \n308  forum.openstreetmap.org         0.046316   \n309  forum.openstreetmap.org         0.046316   \n..                       ...              ...   \n178  forum.openstreetmap.org         0.047779   \n179  forum.openstreetmap.org         0.047779   \n180  forum.openstreetmap.org         0.047779   \n181  forum.openstreetmap.org         0.047779   \n182  forum.openstreetmap.org         0.047779   \n\n                            topic_title               topic_url topic_id  \\\n305  [JOSM] Railway lines without nodes  viewtopic.php?id=57115    57115   \n306  [JOSM] Railway lines without nodes  viewtopic.php?id=57115    57115   \n307  [JOSM] Railway lines without nodes  viewtopic.php?id=57115    57115   \n308  [JOSM] Railway lines without nodes  viewtopic.php?id=57115    57115   \n309  [JOSM] Railway lines without nodes  viewtopic.php?id=57115    57115   \n..                                  ...                     ...      ...   \n178                         Editor JOSM  viewtopic.php?id=64877    64877   \n179                         Editor JOSM  viewtopic.php?id=64877    64877   \n180                         Editor JOSM  viewtopic.php?id=64877    64877   \n181                         Editor JOSM  viewtopic.php?id=64877    64877   \n182                         Editor JOSM  viewtopic.php?id=64877    64877   \n\n                   date position_in_topic  \n305 2017-01-25 00:20:57                 1  \n306 2017-01-25 00:40:21                 2  \n307 2017-01-25 00:45:06                 3  \n308 2017-01-25 08:25:10                 4  \n309 2017-01-30 19:43:19                 5  \n..                  ...               ...  \n178 2018-12-26 12:56:07                 7  \n179 2018-12-26 13:11:18                 8  \n180 2018-12-26 13:12:30                 9  \n181 2018-12-27 14:10:43                10  \n182 2018-12-27 14:19:32                11  \n\n[286 rows x 21 columns]",
      "text/html": "<div>\n<style scoped>\n    .dataframe tbody tr th:only-of-type {\n        vertical-align: middle;\n    }\n\n    .dataframe tbody tr th {\n        vertical-align: top;\n    }\n\n    .dataframe thead th {\n        text-align: right;\n    }\n</style>\n<table border=\"1\" class=\"dataframe\">\n  <thead>\n    <tr style=\"text-align: right;\">\n      <th></th>\n      <th>Unnamed: 0</th>\n      <th>reply_id</th>\n      <th>reply_date</th>\n      <th>reply_number</th>\n      <th>reply_content</th>\n      <th>author_name</th>\n      <th>author_type</th>\n      <th>author_from</th>\n      <th>author_registered_date</th>\n      <th>forum_url</th>\n      <th>...</th>\n      <th>forum_id</th>\n      <th>depth</th>\n      <th>download_timeout</th>\n      <th>download_slot</th>\n      <th>download_latency</th>\n      <th>topic_title</th>\n      <th>topic_url</th>\n      <th>topic_id</th>\n      <th>date</th>\n      <th>position_in_topic</th>\n    </tr>\n  </thead>\n  <tbody>\n    <tr>\n      <th>305</th>\n      <td>305</td>\n      <td>p627952</td>\n      <td>2017-01-25 00:20:57</td>\n      <td>1</td>\n      <td>\\n\\t\\t\\t\\t\\t\\tHow do I filter for railway line...</td>\n      <td>ethylisocyanat</td>\n      <td>Member</td>\n      <td>NaN</td>\n      <td>2017-01-17</td>\n      <td>viewforum.php?id=54</td>\n      <td>...</td>\n      <td>54</td>\n      <td>7</td>\n      <td>180</td>\n      <td>forum.openstreetmap.org</td>\n      <td>0.046316</td>\n      <td>[JOSM] Railway lines without nodes</td>\n      <td>viewtopic.php?id=57115</td>\n      <td>57115</td>\n      <td>2017-01-25 00:20:57</td>\n      <td>1</td>\n    </tr>\n    <tr>\n      <th>306</th>\n      <td>306</td>\n      <td>p627956</td>\n      <td>2017-01-25 00:40:21</td>\n      <td>2</td>\n      <td>\\n\\t\\t\\t\\t\\t\\tIt should be railway=rail instea...</td>\n      <td>RicoElectrico</td>\n      <td>Moderator</td>\n      <td>Trójmiasto</td>\n      <td>2012-07-01</td>\n      <td>viewforum.php?id=54</td>\n      <td>...</td>\n      <td>54</td>\n      <td>7</td>\n      <td>180</td>\n      <td>forum.openstreetmap.org</td>\n      <td>0.046316</td>\n      <td>[JOSM] Railway lines without nodes</td>\n      <td>viewtopic.php?id=57115</td>\n      <td>57115</td>\n      <td>2017-01-25 00:40:21</td>\n      <td>2</td>\n    </tr>\n    <tr>\n      <th>307</th>\n      <td>307</td>\n      <td>p627957</td>\n      <td>2017-01-25 00:45:06</td>\n      <td>3</td>\n      <td>\\n\\t\\t\\t\\t\\t\\tI want to add service=spur to al...</td>\n      <td>ethylisocyanat</td>\n      <td>Member</td>\n      <td>NaN</td>\n      <td>2017-01-17</td>\n      <td>viewforum.php?id=54</td>\n      <td>...</td>\n      <td>54</td>\n      <td>7</td>\n      <td>180</td>\n      <td>forum.openstreetmap.org</td>\n      <td>0.046316</td>\n      <td>[JOSM] Railway lines without nodes</td>\n      <td>viewtopic.php?id=57115</td>\n      <td>57115</td>\n      <td>2017-01-25 00:45:06</td>\n      <td>3</td>\n    </tr>\n    <tr>\n      <th>308</th>\n      <td>308</td>\n      <td>p627980</td>\n      <td>2017-01-25 08:25:10</td>\n      <td>4</td>\n      <td>\\n\\t\\t\\t\\t\\t\\tethylisocyanat wrote:I want to a...</td>\n      <td>escada</td>\n      <td>Moderator</td>\n      <td>NaN</td>\n      <td>2011-08-13</td>\n      <td>viewforum.php?id=54</td>\n      <td>...</td>\n      <td>54</td>\n      <td>7</td>\n      <td>180</td>\n      <td>forum.openstreetmap.org</td>\n      <td>0.046316</td>\n      <td>[JOSM] Railway lines without nodes</td>\n      <td>viewtopic.php?id=57115</td>\n      <td>57115</td>\n      <td>2017-01-25 08:25:10</td>\n      <td>4</td>\n    </tr>\n    <tr>\n      <th>309</th>\n      <td>309</td>\n      <td>p628933</td>\n      <td>2017-01-30 19:43:19</td>\n      <td>5</td>\n      <td>\\n\\t\\t\\t\\t\\t\\tescada wrote:\"railway=rail\" only...</td>\n      <td>ethylisocyanat</td>\n      <td>Member</td>\n      <td>NaN</td>\n      <td>2017-01-17</td>\n      <td>viewforum.php?id=54</td>\n      <td>...</td>\n      <td>54</td>\n      <td>7</td>\n      <td>180</td>\n      <td>forum.openstreetmap.org</td>\n      <td>0.046316</td>\n      <td>[JOSM] Railway lines without nodes</td>\n      <td>viewtopic.php?id=57115</td>\n      <td>57115</td>\n      <td>2017-01-30 19:43:19</td>\n      <td>5</td>\n    </tr>\n    <tr>\n      <th>...</th>\n      <td>...</td>\n      <td>...</td>\n      <td>...</td>\n      <td>...</td>\n      <td>...</td>\n      <td>...</td>\n      <td>...</td>\n      <td>...</td>\n      <td>...</td>\n      <td>...</td>\n      <td>...</td>\n      <td>...</td>\n      <td>...</td>\n      <td>...</td>\n      <td>...</td>\n      <td>...</td>\n      <td>...</td>\n      <td>...</td>\n      <td>...</td>\n      <td>...</td>\n      <td>...</td>\n    </tr>\n    <tr>\n      <th>178</th>\n      <td>178</td>\n      <td>p731160</td>\n      <td>2018-12-26 12:56:07</td>\n      <td>7</td>\n      <td>\\n\\t\\t\\t\\t\\t\\tIch verstehe das Problem noch ni...</td>\n      <td>GerdP</td>\n      <td>Member</td>\n      <td>NaN</td>\n      <td>2015-12-18</td>\n      <td>viewforum.php?id=54</td>\n      <td>...</td>\n      <td>54</td>\n      <td>6</td>\n      <td>180</td>\n      <td>forum.openstreetmap.org</td>\n      <td>0.047779</td>\n      <td>Editor JOSM</td>\n      <td>viewtopic.php?id=64877</td>\n      <td>64877</td>\n      <td>2018-12-26 12:56:07</td>\n      <td>7</td>\n    </tr>\n    <tr>\n      <th>179</th>\n      <td>179</td>\n      <td>p731163</td>\n      <td>2018-12-26 13:11:18</td>\n      <td>8</td>\n      <td>\\n\\t\\t\\t\\t\\t\\tIch habe jetzt JOSM auf dem Mac ...</td>\n      <td>felixi</td>\n      <td>Member</td>\n      <td>NaN</td>\n      <td>2014-06-08</td>\n      <td>viewforum.php?id=54</td>\n      <td>...</td>\n      <td>54</td>\n      <td>6</td>\n      <td>180</td>\n      <td>forum.openstreetmap.org</td>\n      <td>0.047779</td>\n      <td>Editor JOSM</td>\n      <td>viewtopic.php?id=64877</td>\n      <td>64877</td>\n      <td>2018-12-26 13:11:18</td>\n      <td>8</td>\n    </tr>\n    <tr>\n      <th>180</th>\n      <td>180</td>\n      <td>p731164</td>\n      <td>2018-12-26 13:12:30</td>\n      <td>9</td>\n      <td>\\n\\t\\t\\t\\t\\t\\t@felixi all my edits remain visi...</td>\n      <td>nevw</td>\n      <td>Member</td>\n      <td>SE Queensland, Australia</td>\n      <td>2013-04-11</td>\n      <td>viewforum.php?id=54</td>\n      <td>...</td>\n      <td>54</td>\n      <td>6</td>\n      <td>180</td>\n      <td>forum.openstreetmap.org</td>\n      <td>0.047779</td>\n      <td>Editor JOSM</td>\n      <td>viewtopic.php?id=64877</td>\n      <td>64877</td>\n      <td>2018-12-26 13:12:30</td>\n      <td>9</td>\n    </tr>\n    <tr>\n      <th>181</th>\n      <td>181</td>\n      <td>p731288</td>\n      <td>2018-12-27 14:10:43</td>\n      <td>10</td>\n      <td>\\n\\t\\t\\t\\t\\t\\tNow we will never know what the ...</td>\n      <td>nevw</td>\n      <td>Member</td>\n      <td>SE Queensland, Australia</td>\n      <td>2013-04-11</td>\n      <td>viewforum.php?id=54</td>\n      <td>...</td>\n      <td>54</td>\n      <td>6</td>\n      <td>180</td>\n      <td>forum.openstreetmap.org</td>\n      <td>0.047779</td>\n      <td>Editor JOSM</td>\n      <td>viewtopic.php?id=64877</td>\n      <td>64877</td>\n      <td>2018-12-27 14:10:43</td>\n      <td>10</td>\n    </tr>\n    <tr>\n      <th>182</th>\n      <td>182</td>\n      <td>p731290</td>\n      <td>2018-12-27 14:19:32</td>\n      <td>11</td>\n      <td>\\n\\t\\t\\t\\t\\t\\tMaybe the wireframe mode was act...</td>\n      <td>GerdP</td>\n      <td>Member</td>\n      <td>NaN</td>\n      <td>2015-12-18</td>\n      <td>viewforum.php?id=54</td>\n      <td>...</td>\n      <td>54</td>\n      <td>6</td>\n      <td>180</td>\n      <td>forum.openstreetmap.org</td>\n      <td>0.047779</td>\n      <td>Editor JOSM</td>\n      <td>viewtopic.php?id=64877</td>\n      <td>64877</td>\n      <td>2018-12-27 14:19:32</td>\n      <td>11</td>\n    </tr>\n  </tbody>\n</table>\n<p>286 rows × 21 columns</p>\n</div>"
     },
     "execution_count": 14,
     "metadata": {},
     "output_type": "execute_result"
    }
   ],
   "source": [
    "p"
   ],
   "metadata": {
    "collapsed": false,
    "pycharm": {
     "name": "#%%\n"
    }
   }
  },
  {
   "cell_type": "code",
   "execution_count": null,
   "outputs": [],
   "source": [],
   "metadata": {
    "collapsed": false,
    "pycharm": {
     "name": "#%%\n"
    }
   }
  }
 ],
 "metadata": {
  "kernelspec": {
   "display_name": "Python 3",
   "language": "python",
   "name": "python3"
  },
  "language_info": {
   "codemirror_mode": {
    "name": "ipython",
    "version": 2
   },
   "file_extension": ".py",
   "mimetype": "text/x-python",
   "name": "python",
   "nbconvert_exporter": "python",
   "pygments_lexer": "ipython2",
   "version": "2.7.6"
  }
 },
 "nbformat": 4,
 "nbformat_minor": 0
}